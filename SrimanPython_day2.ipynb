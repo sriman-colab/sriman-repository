{
  "nbformat": 4,
  "nbformat_minor": 0,
  "metadata": {
    "colab": {
      "provenance": [],
      "authorship_tag": "ABX9TyNGmZl4iV3EBsIcA3tQUSKz",
      "include_colab_link": true
    },
    "kernelspec": {
      "name": "python3",
      "display_name": "Python 3"
    },
    "language_info": {
      "name": "python"
    }
  },
  "cells": [
    {
      "cell_type": "markdown",
      "metadata": {
        "id": "view-in-github",
        "colab_type": "text"
      },
      "source": [
        "<a href=\"https://colab.research.google.com/github/sriman-colab/sriman-repository/blob/main/SrimanPython_day2.ipynb\" target=\"_parent\"><img src=\"https://colab.research.google.com/assets/colab-badge.svg\" alt=\"Open In Colab\"/></a>"
      ]
    },
    {
      "cell_type": "code",
      "execution_count": 1,
      "metadata": {
        "colab": {
          "base_uri": "https://localhost:8080/"
        },
        "id": "G_6dEvvC73IB",
        "outputId": "5e98d4ed-e996-41b7-fd99-0841fdcb7255"
      },
      "outputs": [
        {
          "output_type": "stream",
          "name": "stdout",
          "text": [
            "2\n",
            "30\n",
            "34\n"
          ]
        }
      ],
      "source": [
        "\"\"\"\n",
        "#Question1: concatenation\n",
        "A = int(input(\"enter value a:\"))\n",
        "B = int(input(\"enter value b:\"))\n",
        "result=int(str(A)+str(B))\n",
        "print(result)\n",
        "\n",
        "#Given two numbers A and B. Concatenate the two numbers and print it.\n",
        "A = int(input(\"\"))\n",
        "B = int(input(\"\"))\n",
        "result = int(str(A)+str(B))\n",
        "print(result)\n",
        "\n",
        "#Question2:\n",
        "#Take two names A and B as input from the user, print \"A says Hi to B\" (Without quotations), where A and B are the names in input.\n",
        "# Input two names\n",
        "A = input(\"\")\n",
        "B = input(\"\")\n",
        "# Print the sentence\n",
        "print(A, \"says Hi to\", B)\n",
        "\n",
        "#3. Problem Description:\n",
        "#Given the value of a single bill and the number of bills you received, print the total value of the bills\n",
        "A = int(input(\"\"))\n",
        "B = int(input(\"\"))\n",
        "result = int(A*B)\n",
        "print(result)\n",
        "\n",
        "_________\n",
        "def main():\n",
        "    # YOUR CODE GOES HERE\n",
        "    # Please take input and print output to standard input/output (stdin/stdout)\n",
        "    # E.g. 'input()/raw_input()' for input & 'print' for output\n",
        "    A = input()\n",
        "    print(\"Hello\", A)\n",
        "    return 0\n",
        "\n",
        "if __name__ == '__main__':\n",
        "    main()\n",
        "\n",
        "----\n",
        "Print the first five letters of the English alphabet i.e. A, B, C, D and E.\n",
        "print(\"A\",\"B\",\"C\",\"D\",\"E\", sep=\"\\n\")\n",
        "----\n",
        "Q: The preparation time of one layer is 2 minutes. Given the number of layers added to the lasagna and the number of minutes the lasagna has been baking in the oven, find the total elapsed cooking time (prep + bake) in minutes.\n",
        "\n",
        "def main():\n",
        "    # YOUR CODE GOES HERE\n",
        "    # Please take input and print output to standard input/output (stdin/stdout)\n",
        "    # E.g. 'input()/raw_input()' for input & 'print' for output\n",
        "    layertime = 2\n",
        "    nooflayers = int(input())\n",
        "    preparationtime = int(input())\n",
        "    totaltime = layertime*nooflayers\n",
        "    print(totaltime+preparationtime)\n",
        "    return 0\n",
        "\n",
        "if __name__ == '__main__':\n",
        "    main()\n",
        "\"\"\"\n",
        "\n",
        "\n"
      ]
    }
  ]
}