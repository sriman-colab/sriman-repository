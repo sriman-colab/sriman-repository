{
  "nbformat": 4,
  "nbformat_minor": 0,
  "metadata": {
    "colab": {
      "provenance": [],
      "authorship_tag": "ABX9TyNz8Wk10wjEqhNYacik2Jqo",
      "include_colab_link": true
    },
    "kernelspec": {
      "name": "python3",
      "display_name": "Python 3"
    },
    "language_info": {
      "name": "python"
    }
  },
  "cells": [
    {
      "cell_type": "markdown",
      "metadata": {
        "id": "view-in-github",
        "colab_type": "text"
      },
      "source": [
        "<a href=\"https://colab.research.google.com/github/sriman-colab/sriman-repository/blob/main/5day_25thAug25_Python.ipynb\" target=\"_parent\"><img src=\"https://colab.research.google.com/assets/colab-badge.svg\" alt=\"Open In Colab\"/></a>"
      ]
    },
    {
      "cell_type": "code",
      "execution_count": 5,
      "metadata": {
        "colab": {
          "base_uri": "https://localhost:8080/"
        },
        "id": "vJmj5715pM7H",
        "outputId": "ec5e8742-f38d-4896-bbd2-2817751039d4"
      },
      "outputs": [
        {
          "output_type": "stream",
          "name": "stdout",
          "text": [
            "5\n",
            "1 2 3 4 5 \n",
            "1 2 3 4 5 \n",
            "1 2 3 4 5 \n",
            "1 2 3 4 5 \n",
            "1 2 3 4 5 \n"
          ]
        }
      ],
      "source": [
        "\"\"\"\n",
        "#Quiz 1\n",
        "count = 0\n",
        "while(count <10): # 0 1 2 3 4\n",
        "  print(10,end =' ') # 10 10 10 10\n",
        "  count += 1 #1 2 3 4\n",
        "__________\n",
        "Quiz 2#\n",
        "count = 1\n",
        "while(count <=5): #1 2\n",
        "  if(count ==2): #1==2 f 2==2 t\n",
        "    break #exit the loop\n",
        "  print(count,end =' ') #1\n",
        "  count +=1 #2\n",
        "_____________\n",
        "Problem Description:\n",
        "Take an integer A as input, you have to tell whether it is a prime number or not.\n",
        "A prime number is a natural number greater than 1 which is divisible only by 1 and itself.\n",
        "def main():\n",
        "    # YOUR CODE GOES HERE\n",
        "    # Please take input and print output to standard input/output (stdin/stdout)\n",
        "    # E.g. 'input()/raw_input()' for input & 'print' for output\n",
        "    N = int(input())\n",
        "    F = 2\n",
        "    while(F<N):\n",
        "        if(N%F==0):\n",
        "            print(\"NO\")\n",
        "        F+=1\n",
        "    else:\n",
        "        print(\"YES\")\n",
        "    return 0\n",
        "\n",
        "if __name__ == '__main__':\n",
        "    main()\n",
        "------------------\n",
        "Given an integer N, print N stars in a single line.\n",
        "For example if N = 5 then pattern will be like:*****\n",
        "def main():\n",
        "    # YOUR CODE GOES HERE\n",
        "    # Please take input and print output to standard input/output (stdin/stdout)\n",
        "    # E.g. 'input()/raw_input()' for input & 'print' for output\n",
        "    n = int(input())\n",
        "    for i in range(1, n+1):\n",
        "        print(\"*\",end=\"\")\n",
        "        i += 1\n",
        "    return 0\n",
        "\n",
        "if __name__ == '__main__':\n",
        "    main()\n",
        "------------------\n",
        "Input Format:\n",
        "First line of input contains an integers N (no of rows).\n",
        "Second line of input contains an integer M (no of cols).\n",
        "Output Format\n",
        "Output N * M rectangle of stars.\n",
        "\n",
        "R = int(input())\n",
        "C = int(input())\n",
        "for i in range (1, R+1):\n",
        "    for j in range(1,C+1):\n",
        "        print(\"*\",end=\"\")\n",
        "        j +=1\n",
        "    i +=1\n",
        "    print()\n",
        "--------------\n",
        "#What would be the output of the following ?\n",
        "i=0\n",
        "while i<=5:\n",
        "     if i%2:\n",
        "        pass\n",
        "     else:\n",
        "        print(i, end=\" \")\n",
        "     i+=1\n",
        "---------\n",
        "#What will be the output of the following?\n",
        "i = 0\n",
        "j = 0\n",
        "while i <= 2:\n",
        "   if j%2:\n",
        "       j += 1\n",
        "   print(i, \":\", j, end=\" \")\n",
        "   i+=1\n",
        "   j+=1\n",
        "------\n",
        "#Print an Integer, denoting the sum of the digits of the input integer.\n",
        "def main():\n",
        "    # YOUR CODE GOES HERE\n",
        "    # Please take input and print output to standard input/output (stdin/stdout)\n",
        "    # E.g. 'input()/raw_input()' for input & 'print' for output\n",
        "    N = int(input())\n",
        "    R = 0\n",
        "    #for i in range (1, N+1):\n",
        "    while (N>0):\n",
        "        R = R+(N%10)\n",
        "        N //= 10\n",
        "    print(R)\n",
        "\n",
        "    return 0\n",
        "---------------\n",
        "Problem Description\n",
        "Take an integer N as input, print the corresponding pattern for N.\n",
        "For example if N = 4 then pattern will be like:\n",
        "1\n",
        "1 2\n",
        "1 2 3\n",
        "1 2 3 4\n",
        "NOTE: There should be no extra spaces after last integer.\n",
        "def main():\n",
        "    # Take input\n",
        "    N = int(input())\n",
        "\n",
        "    # Loop for rows\n",
        "    for i in range(1, N + 1):\n",
        "        for j in range(1, i + 1):\n",
        "            if j == i:  # last number → print without space\n",
        "                print(j, end=\"\")\n",
        "            else:\n",
        "                print(j, end=\" \")\n",
        "        print()  # move to next line\n",
        "\n",
        "if __name__ == '__main__':\n",
        "    main()\n",
        "-----------------\n",
        "def main():\n",
        "    N = int(input())\n",
        "    for i in range(1,N+1):\n",
        "      for j in range(1, N+1):\n",
        "        print (j, end=\" \")\n",
        "      N = N%10\n",
        "      print()\n",
        "    return 0\n",
        "\n",
        "if __name__ == '__main__':\n",
        "    main()\n",
        "------------------\n",
        "\"\"\""
      ]
    },
    {
      "cell_type": "code",
      "source": [
        "\"\"\"\n",
        "Problem Description\n",
        "Take an integer N as input, print the corresponding pattern for N.\n",
        "For example if N = 4 then pattern will be like:\n",
        "1\n",
        "1 2\n",
        "1 2 3\n",
        "1 2 3 4\n",
        "NOTE: There should be no extra spaces after last integer.\n",
        "\"\"\"\n",
        "\n"
      ],
      "metadata": {
        "id": "aD_ZPekrjY_E"
      },
      "execution_count": null,
      "outputs": []
    },
    {
      "cell_type": "code",
      "source": [
        "\n"
      ],
      "metadata": {
        "id": "v2vNfH2Ys7PE"
      },
      "execution_count": null,
      "outputs": []
    }
  ]
}