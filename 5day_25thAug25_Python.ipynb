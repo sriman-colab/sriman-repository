{
  "nbformat": 4,
  "nbformat_minor": 0,
  "metadata": {
    "colab": {
      "provenance": [],
      "authorship_tag": "ABX9TyO7mmQA+6rrul4B5V3wJGhY",
      "include_colab_link": true
    },
    "kernelspec": {
      "name": "python3",
      "display_name": "Python 3"
    },
    "language_info": {
      "name": "python"
    }
  },
  "cells": [
    {
      "cell_type": "markdown",
      "metadata": {
        "id": "view-in-github",
        "colab_type": "text"
      },
      "source": [
        "<a href=\"https://colab.research.google.com/github/sriman-colab/sriman-repository/blob/main/5day_25thAug25_Python.ipynb\" target=\"_parent\"><img src=\"https://colab.research.google.com/assets/colab-badge.svg\" alt=\"Open In Colab\"/></a>"
      ]
    },
    {
      "cell_type": "code",
      "execution_count": 5,
      "metadata": {
        "colab": {
          "base_uri": "https://localhost:8080/"
        },
        "id": "vJmj5715pM7H",
        "outputId": "ec5e8742-f38d-4896-bbd2-2817751039d4"
      },
      "outputs": [
        {
          "output_type": "stream",
          "name": "stdout",
          "text": [
            "5\n",
            "1 2 3 4 5 \n",
            "1 2 3 4 5 \n",
            "1 2 3 4 5 \n",
            "1 2 3 4 5 \n",
            "1 2 3 4 5 \n"
          ]
        }
      ],
      "source": [
        "\"\"\"\n",
        "#Quiz 1\n",
        "count = 0\n",
        "while(count <10): # 0 1 2 3 4\n",
        "  print(10,end =' ') # 10 10 10 10\n",
        "  count += 1 #1 2 3 4\n",
        "__________\n",
        "Quiz 2#\n",
        "count = 1\n",
        "while(count <=5): #1 2\n",
        "  if(count ==2): #1==2 f 2==2 t\n",
        "    break #exit the loop\n",
        "  print(count,end =' ') #1\n",
        "  count +=1 #2\n",
        "_____________\n",
        "Problem Description:\n",
        "Take an integer A as input, you have to tell whether it is a prime number or not.\n",
        "A prime number is a natural number greater than 1 which is divisible only by 1 and itself.\n",
        "def main():\n",
        "    # YOUR CODE GOES HERE\n",
        "    # Please take input and print output to standard input/output (stdin/stdout)\n",
        "    # E.g. 'input()/raw_input()' for input & 'print' for output\n",
        "    N = int(input())\n",
        "    F = 2\n",
        "    while(F<N):\n",
        "        if(N%F==0):\n",
        "            print(\"NO\")\n",
        "        F+=1\n",
        "    else:\n",
        "        print(\"YES\")\n",
        "    return 0\n",
        "\n",
        "if __name__ == '__main__':\n",
        "    main()\n",
        "------------------\n",
        "Given an integer N, print N stars in a single line.\n",
        "For example if N = 5 then pattern will be like:*****\n",
        "def main():\n",
        "    # YOUR CODE GOES HERE\n",
        "    # Please take input and print output to standard input/output (stdin/stdout)\n",
        "    # E.g. 'input()/raw_input()' for input & 'print' for output\n",
        "    n = int(input())\n",
        "    for i in range(1, n+1):\n",
        "        print(\"*\",end=\"\")\n",
        "        i += 1\n",
        "    return 0\n",
        "\n",
        "if __name__ == '__main__':\n",
        "    main()\n",
        "------------------\n",
        "Input Format:\n",
        "First line of input contains an integers N (no of rows).\n",
        "Second line of input contains an integer M (no of cols).\n",
        "Output Format\n",
        "Output N * M rectangle of stars.\n",
        "\n",
        "R = int(input())\n",
        "C = int(input())\n",
        "for i in range (1, R+1):\n",
        "    for j in range(1,C+1):\n",
        "        print(\"*\",end=\"\")\n",
        "        j +=1\n",
        "    i +=1\n",
        "    print()\n",
        "--------------\n",
        "#What would be the output of the following ?\n",
        "i=0\n",
        "while i<=5:\n",
        "     if i%2:\n",
        "        pass\n",
        "     else:\n",
        "        print(i, end=\" \")\n",
        "     i+=1\n",
        "---------\n",
        "#What will be the output of the following?\n",
        "i = 0\n",
        "j = 0\n",
        "while i <= 2:\n",
        "   if j%2:\n",
        "       j += 1\n",
        "   print(i, \":\", j, end=\" \")\n",
        "   i+=1\n",
        "   j+=1\n",
        "------\n",
        "#Print an Integer, denoting the sum of the digits of the input integer.\n",
        "def main():\n",
        "    # YOUR CODE GOES HERE\n",
        "    # Please take input and print output to standard input/output (stdin/stdout)\n",
        "    # E.g. 'input()/raw_input()' for input & 'print' for output\n",
        "    N = int(input())\n",
        "    R = 0\n",
        "    #for i in range (1, N+1):\n",
        "    while (N>0):\n",
        "        R = R+(N%10)\n",
        "        N //= 10\n",
        "    print(R)\n",
        "\n",
        "    return 0\n",
        "---------------\n",
        "Problem Description\n",
        "Take an integer N as input, print the corresponding pattern for N.\n",
        "For example if N = 4 then pattern will be like:\n",
        "1\n",
        "1 2\n",
        "1 2 3\n",
        "1 2 3 4\n",
        "NOTE: There should be no extra spaces after last integer.\n",
        "def main():\n",
        "    # Take input\n",
        "    N = int(input())\n",
        "\n",
        "    # Loop for rows\n",
        "    for i in range(1, N + 1):\n",
        "        for j in range(1, i + 1):\n",
        "            if j == i:  # last number → print without space\n",
        "                print(j, end=\"\")\n",
        "            else:\n",
        "                print(j, end=\" \")\n",
        "        print()  # move to next line\n",
        "\n",
        "if __name__ == '__main__':\n",
        "    main()\n",
        "-----------------\n",
        "def main():\n",
        "    N = int(input())\n",
        "    for i in range(1,N+1):\n",
        "      for j in range(1, N+1):\n",
        "        print (j, end=\" \")\n",
        "      N = N%10\n",
        "      print()\n",
        "    return 0\n",
        "\n",
        "if __name__ == '__main__':\n",
        "    main()\n",
        "------------------\n",
        "\"\"\""
      ]
    },
    {
      "cell_type": "code",
      "source": [
        "\"\"\"\n",
        "Problem Description\n",
        "Take an integer N as input, print the corresponding pattern for N.\n",
        "For example if N = 4 then pattern will be like:\n",
        "1\n",
        "1 2\n",
        "1 2 3\n",
        "1 2 3 4\n",
        "NOTE: There should be no extra spaces after last integer.\n",
        "\"\"\"\n",
        "def main():\n",
        "    # Take input\n",
        "    N = int(input())\n",
        "\n",
        "    # Loop for rows\n",
        "    for i in range(1, N + 1):\n",
        "        for j in range(1, i + 1):\n",
        "            if j == i:  # last number → print without space\n",
        "                print(j, end=\"\")\n",
        "            else:\n",
        "                print(j, end=\" \")\n",
        "        print()  # move to next line\n",
        "\n",
        "if __name__ == '__main__':\n",
        "    main()"
      ],
      "metadata": {
        "colab": {
          "base_uri": "https://localhost:8080/"
        },
        "id": "aD_ZPekrjY_E",
        "outputId": "6aab5cba-20d9-4301-81f5-4c42b18bb17b"
      },
      "execution_count": 1,
      "outputs": [
        {
          "output_type": "stream",
          "name": "stdout",
          "text": [
            "4\n",
            "1\n",
            "1 2\n",
            "1 2 3\n",
            "1 2 3 4\n"
          ]
        }
      ]
    },
    {
      "cell_type": "code",
      "source": [
        "\"\"\"\n",
        "Problem Description\n",
        "Take an integer N as input, print the corresponding Numeric Inverted Half Pyramid pattern for N.\n",
        "For example if N = 4 then pattern will be like:\n",
        "1 2 3 4\n",
        "1 2 3\n",
        "1 2\n",
        "1\n",
        "NOTE: There should be no extra spaces after last integer and before first integer in any . All integers in any row in the pattern are separated by a single space.\n",
        "N = int(input())\n",
        "for i in range(N, 0, -1):\n",
        "    for j in range(1, i + 1):\n",
        "        if j == i:\n",
        "            print(j, end=\"\")\n",
        "        else:\n",
        "            print(j, end=\" \")\n",
        "    print()\n",
        "\"\"\"\n",
        "N = int(input())\n",
        "for i in range(N, 0, -1):\n",
        "    for j in range(1, i + 1):\n",
        "        if j == i:\n",
        "            print(j, end=\"\")\n",
        "        else:\n",
        "            print(j, end=\" \")\n",
        "    print()\n"
      ],
      "metadata": {
        "colab": {
          "base_uri": "https://localhost:8080/"
        },
        "id": "Ufxl8H9O-0oU",
        "outputId": "f6003640-6ca7-4453-940e-30cb4f7fac54"
      },
      "execution_count": 3,
      "outputs": [
        {
          "output_type": "stream",
          "name": "stdout",
          "text": [
            "5\n",
            "1 2 3 4 5\n",
            "1 2 3 4\n",
            "1 2 3\n",
            "1 2\n",
            "1\n"
          ]
        }
      ]
    },
    {
      "cell_type": "code",
      "source": [
        "#You are given an integer A as input and you need to determine whether it is a palindrome or not. print palindrome Yes or not NO\n",
        "N = int(input())\n",
        "original = N\n",
        "R = 0\n",
        "while (N>0):\n",
        "    digit = N % 10 #get last number\n",
        "    R = (R * 10) + digit #reverse number\n",
        "    N = N // 10 # remove last number\n",
        "\n",
        "if (original==R):\n",
        "    print(\"YES\")\n",
        "else:\n",
        "    print(\"NO\")\n",
        "\n"
      ],
      "metadata": {
        "colab": {
          "base_uri": "https://localhost:8080/"
        },
        "id": "BVY5CF1_S5T3",
        "outputId": "9784e003-dcf3-4f6a-8855-f8a2c5c8a8f6"
      },
      "execution_count": 16,
      "outputs": [
        {
          "output_type": "stream",
          "name": "stdout",
          "text": [
            "1122332211\n",
            "YES\n"
          ]
        }
      ]
    },
    {
      "cell_type": "code",
      "source": [
        "\n"
      ],
      "metadata": {
        "id": "v2vNfH2Ys7PE"
      },
      "execution_count": null,
      "outputs": []
    }
  ]
}