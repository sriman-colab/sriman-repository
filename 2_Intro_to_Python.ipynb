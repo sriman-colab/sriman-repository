{
  "nbformat": 4,
  "nbformat_minor": 0,
  "metadata": {
    "colab": {
      "provenance": [],
      "include_colab_link": true
    },
    "kernelspec": {
      "name": "python3",
      "display_name": "Python 3"
    },
    "language_info": {
      "name": "python"
    }
  },
  "cells": [
    {
      "cell_type": "markdown",
      "metadata": {
        "id": "view-in-github",
        "colab_type": "text"
      },
      "source": [
        "<a href=\"https://colab.research.google.com/github/sriman-colab/sriman-repository/blob/main/2_Intro_to_Python.ipynb\" target=\"_parent\"><img src=\"https://colab.research.google.com/assets/colab-badge.svg\" alt=\"Open In Colab\"/></a>"
      ]
    },
    {
      "cell_type": "markdown",
      "source": [
        "My first python program"
      ],
      "metadata": {
        "id": "GGJvQEQVgOD1"
      }
    },
    {
      "cell_type": "code",
      "source": [
        "print(\"hello world!\")"
      ],
      "metadata": {
        "id": "-nEbgg6PgQc9",
        "colab": {
          "base_uri": "https://localhost:8080/"
        },
        "outputId": "e7afc4b3-dffe-4645-8a77-28be8323b5d2"
      },
      "execution_count": null,
      "outputs": [
        {
          "output_type": "stream",
          "name": "stdout",
          "text": [
            "hello world!\n"
          ]
        }
      ]
    },
    {
      "cell_type": "code",
      "source": [
        "print(\"Hi! How are you?\")"
      ],
      "metadata": {
        "colab": {
          "base_uri": "https://localhost:8080/"
        },
        "id": "txrWrvmr3XM5",
        "outputId": "957e9a7d-0d31-4fe4-eafe-9dc5b2aad13f"
      },
      "execution_count": null,
      "outputs": [
        {
          "output_type": "stream",
          "name": "stdout",
          "text": [
            "Hi! How are you?\n"
          ]
        }
      ]
    },
    {
      "cell_type": "code",
      "source": [
        "print(\"lihasdbfviuwebafi34572389457soidh@\")"
      ],
      "metadata": {
        "id": "1pF8Eww6g36a",
        "colab": {
          "base_uri": "https://localhost:8080/"
        },
        "outputId": "e51d6d46-fe2c-4eb2-9545-ba3dd6f05d73"
      },
      "execution_count": null,
      "outputs": [
        {
          "output_type": "stream",
          "name": "stdout",
          "text": [
            "lihasdbfviuwebafi34572389457soidh@\n"
          ]
        }
      ]
    },
    {
      "cell_type": "markdown",
      "source": [
        "Quiz 1"
      ],
      "metadata": {
        "id": "2-z-rm2Dh0Yd"
      }
    },
    {
      "cell_type": "code",
      "source": [
        "print(\"10\")"
      ],
      "metadata": {
        "id": "TJFUaObch1JJ",
        "colab": {
          "base_uri": "https://localhost:8080/"
        },
        "outputId": "40fbafe6-ccf4-4ad1-ba5b-55567b348d0d"
      },
      "execution_count": null,
      "outputs": [
        {
          "output_type": "stream",
          "name": "stdout",
          "text": [
            "10\n"
          ]
        }
      ]
    },
    {
      "cell_type": "markdown",
      "source": [
        "Quiz 2"
      ],
      "metadata": {
        "id": "R01TWuf3jYJP"
      }
    },
    {
      "cell_type": "code",
      "source": [
        "print(\"5 * 10\")"
      ],
      "metadata": {
        "id": "9irG8agmjaU3",
        "colab": {
          "base_uri": "https://localhost:8080/"
        },
        "outputId": "b0ec7e28-faca-4633-80b4-07dc1f90a50a"
      },
      "execution_count": null,
      "outputs": [
        {
          "output_type": "stream",
          "name": "stdout",
          "text": [
            "5 * 10\n"
          ]
        }
      ]
    },
    {
      "cell_type": "markdown",
      "source": [
        "Quiz 3"
      ],
      "metadata": {
        "id": "uUzog5CEalcr"
      }
    },
    {
      "cell_type": "code",
      "source": [
        "Print(5 * 10)"
      ],
      "metadata": {
        "id": "Z2E8l2I3amm5",
        "colab": {
          "base_uri": "https://localhost:8080/",
          "height": 176
        },
        "outputId": "26c753c2-413f-4bf9-d650-983b114631a2"
      },
      "execution_count": null,
      "outputs": [
        {
          "output_type": "error",
          "ename": "NameError",
          "evalue": "name 'Print' is not defined",
          "traceback": [
            "\u001b[0;31m---------------------------------------------------------------------------\u001b[0m",
            "\u001b[0;31mNameError\u001b[0m                                 Traceback (most recent call last)",
            "\u001b[0;32m/tmp/ipython-input-2996981570.py\u001b[0m in \u001b[0;36m<cell line: 0>\u001b[0;34m()\u001b[0m\n\u001b[0;32m----> 1\u001b[0;31m \u001b[0mPrint\u001b[0m\u001b[0;34m(\u001b[0m\u001b[0;36m5\u001b[0m \u001b[0;34m*\u001b[0m \u001b[0;36m10\u001b[0m\u001b[0;34m)\u001b[0m\u001b[0;34m\u001b[0m\u001b[0;34m\u001b[0m\u001b[0m\n\u001b[0m",
            "\u001b[0;31mNameError\u001b[0m: name 'Print' is not defined"
          ]
        }
      ]
    },
    {
      "cell_type": "code",
      "source": [
        "print(5 * 10)"
      ],
      "metadata": {
        "colab": {
          "base_uri": "https://localhost:8080/"
        },
        "id": "4tWA5Ohf5vsA",
        "outputId": "c1ec31c0-e8e7-4ab6-a7bd-5616c22eeffa"
      },
      "execution_count": null,
      "outputs": [
        {
          "output_type": "stream",
          "name": "stdout",
          "text": [
            "50\n"
          ]
        }
      ]
    },
    {
      "cell_type": "markdown",
      "source": [
        "Python Is a Case-Sensitive Language"
      ],
      "metadata": {
        "id": "Rgw5A2MlbHpb"
      }
    },
    {
      "cell_type": "markdown",
      "source": [
        "Basic Arithmetic Operations"
      ],
      "metadata": {
        "id": "J4xHi8lMb-ES"
      }
    },
    {
      "cell_type": "code",
      "source": [
        "print(5 * 10) #it will be calculated -> multiplication -> 50\n",
        "print(10 / 5)  #it will be calculated -> dividion -> 2\n",
        "print(10 + 5) # addition -> 15\n",
        "print(15 - 5) # subtraction -> 10"
      ],
      "metadata": {
        "colab": {
          "base_uri": "https://localhost:8080/"
        },
        "id": "y1h5hS8i6Tci",
        "outputId": "2149fe13-220b-4ed5-cb48-c8537199f2c5"
      },
      "execution_count": null,
      "outputs": [
        {
          "output_type": "stream",
          "name": "stdout",
          "text": [
            "50\n",
            "2.0\n",
            "15\n",
            "10\n"
          ]
        }
      ]
    },
    {
      "cell_type": "markdown",
      "source": [
        "Quiz 4"
      ],
      "metadata": {
        "id": "NnccWZD_cKcK"
      }
    },
    {
      "cell_type": "code",
      "source": [
        "print(8 * 6)"
      ],
      "metadata": {
        "id": "DZ01UwDolHt1",
        "colab": {
          "base_uri": "https://localhost:8080/"
        },
        "outputId": "11143660-792b-49a3-a761-41e83c0358f5"
      },
      "execution_count": null,
      "outputs": [
        {
          "output_type": "stream",
          "name": "stdout",
          "text": [
            "48\n"
          ]
        }
      ]
    },
    {
      "cell_type": "markdown",
      "source": [
        "String Concatenation in Python"
      ],
      "metadata": {
        "id": "drqFcI7IcSMh"
      }
    },
    {
      "cell_type": "code",
      "source": [
        "print(\"Hello\" + \"123\") #string concatenation\n",
        "print(\"Hello + 123\")"
      ],
      "metadata": {
        "colab": {
          "base_uri": "https://localhost:8080/"
        },
        "id": "KDfSybsR8ELJ",
        "outputId": "2c827162-985f-4eeb-c3c2-fc226dbc1ab0"
      },
      "execution_count": null,
      "outputs": [
        {
          "output_type": "stream",
          "name": "stdout",
          "text": [
            "Hello123\n",
            "Hello + 123\n"
          ]
        }
      ]
    },
    {
      "cell_type": "code",
      "source": [
        "city=\"Delhi\"\n",
        "country=\"India\"\n",
        "# Delhi is in India\n",
        "print(city + \" is in \" +country)"
      ],
      "metadata": {
        "colab": {
          "base_uri": "https://localhost:8080/"
        },
        "id": "RHuBGXhl8a-P",
        "outputId": "3b49111b-b213-481f-c740-8dc0f21bbc3b"
      },
      "execution_count": null,
      "outputs": [
        {
          "output_type": "stream",
          "name": "stdout",
          "text": [
            "Delhi is in India\n"
          ]
        }
      ]
    },
    {
      "cell_type": "markdown",
      "source": [
        "Quiz 5:\n",
        "\n",
        "\n",
        "Print \"A says Hi to B\" (Without quotations), where A and B are the names \"Ram\" and \"Shyam\"."
      ],
      "metadata": {
        "id": "9l9XppsdljTs"
      }
    },
    {
      "cell_type": "code",
      "source": [
        "A=\"Ram\"\n",
        "B=\"Shyam\"\n",
        "print(A+\" says Hi to \"+ B)"
      ],
      "metadata": {
        "colab": {
          "base_uri": "https://localhost:8080/"
        },
        "id": "pHJUI8dr9Uaw",
        "outputId": "8c2ea11e-2cab-4c87-bcd1-5f9c0cfd8705"
      },
      "execution_count": null,
      "outputs": [
        {
          "output_type": "stream",
          "name": "stdout",
          "text": [
            "Ram says Hi to Shyam\n"
          ]
        }
      ]
    },
    {
      "cell_type": "markdown",
      "source": [
        "Comments"
      ],
      "metadata": {
        "id": "4HfOstxFcgI-"
      }
    },
    {
      "cell_type": "code",
      "source": [
        "# comment\n",
        "#print(\"Hi\")\n",
        "# this\n",
        "#is\n",
        "#a\n",
        "#multi-line\n",
        "#comment\n",
        "\n",
        "\"\"\"\n",
        "hi\n",
        "im\n",
        "akanksha\n",
        "\"\"\""
      ],
      "metadata": {
        "id": "qND7j4Ku9ofZ"
      },
      "execution_count": null,
      "outputs": []
    },
    {
      "cell_type": "markdown",
      "source": [
        "Primitive data types in Python:\n",
        "\n",
        "Every data is in a certain form, for example, a name is a String, a number is an integer, etc..\n",
        "\n",
        "Let us take an example of Student details,\n",
        "\n",
        "**Name:** string, we never name as 1, 2, etc, it will always be a string.\n",
        "\n",
        "**Roll number:** integer\n",
        "\n",
        "**marks:** decimal(float), marks can be decimal value as sometimes there may be half marks\n",
        "\n",
        "**is_absent:** True/False, the student is absent or present, so it is a boolean value.\n",
        "\n",
        "\n",
        "\n",
        "**Data types:** is a type of data we have in Python programming language.\n",
        "\n",
        "In Python, we have a function named type, if we pass any data to it, it will print the type of that data.\n",
        "\n",
        "\n",
        "\n"
      ],
      "metadata": {
        "id": "LtiRYr45dLoS"
      }
    },
    {
      "cell_type": "code",
      "source": [
        "#Integer\n",
        "print(type(23)) # - infinity to + infinity -> integer\n",
        "print(type(-234))"
      ],
      "metadata": {
        "id": "KPEHhmtzdgYb",
        "colab": {
          "base_uri": "https://localhost:8080/"
        },
        "outputId": "eb4c35a3-46d6-4d9f-ffaa-2742d6285d16"
      },
      "execution_count": null,
      "outputs": [
        {
          "output_type": "stream",
          "name": "stdout",
          "text": [
            "<class 'int'>\n",
            "<class 'int'>\n"
          ]
        }
      ]
    },
    {
      "cell_type": "code",
      "source": [
        "#Float\n",
        "print(type(23.0))\n",
        "print(type(-23.4))"
      ],
      "metadata": {
        "colab": {
          "base_uri": "https://localhost:8080/"
        },
        "id": "npc6r1SC_C3e",
        "outputId": "88d08af4-14c6-4866-8a96-a6e111b2585d"
      },
      "execution_count": null,
      "outputs": [
        {
          "output_type": "stream",
          "name": "stdout",
          "text": [
            "<class 'float'>\n",
            "<class 'float'>\n"
          ]
        }
      ]
    },
    {
      "cell_type": "code",
      "source": [
        "#String\n",
        "print(type('anbcd'))\n",
        "print(type(\"bskjdfbs\"))\n",
        "print(type('1'))"
      ],
      "metadata": {
        "colab": {
          "base_uri": "https://localhost:8080/"
        },
        "id": "TCIo8vVP_O0j",
        "outputId": "ad6d7ca9-fa81-45b2-f7b7-1d796aff5ef9"
      },
      "execution_count": null,
      "outputs": [
        {
          "output_type": "stream",
          "name": "stdout",
          "text": [
            "<class 'str'>\n",
            "<class 'str'>\n",
            "<class 'str'>\n"
          ]
        }
      ]
    },
    {
      "cell_type": "code",
      "source": [
        "#Boolean\n",
        "print(type(True))\n",
        "print(type(False))\n",
        "print(type(\"true\")) #string"
      ],
      "metadata": {
        "colab": {
          "base_uri": "https://localhost:8080/"
        },
        "id": "oegSeptq_jnQ",
        "outputId": "ce11e4fc-7dec-4712-ef09-f81bfcf31d39"
      },
      "execution_count": null,
      "outputs": [
        {
          "output_type": "stream",
          "name": "stdout",
          "text": [
            "<class 'bool'>\n",
            "<class 'bool'>\n",
            "<class 'str'>\n"
          ]
        }
      ]
    },
    {
      "cell_type": "code",
      "source": [
        "print(type(None))"
      ],
      "metadata": {
        "colab": {
          "base_uri": "https://localhost:8080/"
        },
        "id": "3xhZSB9H_3Ce",
        "outputId": "c5d3f6f7-6e4f-44da-ba34-6cac9d181bcb"
      },
      "execution_count": null,
      "outputs": [
        {
          "output_type": "stream",
          "name": "stdout",
          "text": [
            "<class 'NoneType'>\n"
          ]
        }
      ]
    },
    {
      "cell_type": "markdown",
      "source": [
        "Quiz 6"
      ],
      "metadata": {
        "id": "iNmiGkxzdkFI"
      }
    },
    {
      "cell_type": "code",
      "source": [
        "print(type(true)) # True is the correct keyword for boolean"
      ],
      "metadata": {
        "id": "gCty54uhdk3H",
        "colab": {
          "base_uri": "https://localhost:8080/",
          "height": 176
        },
        "outputId": "79bc9a0a-5e0c-45cb-d817-6f79ba8bd056"
      },
      "execution_count": null,
      "outputs": [
        {
          "output_type": "error",
          "ename": "NameError",
          "evalue": "name 'true' is not defined",
          "traceback": [
            "\u001b[0;31m---------------------------------------------------------------------------\u001b[0m",
            "\u001b[0;31mNameError\u001b[0m                                 Traceback (most recent call last)",
            "\u001b[0;32m/tmp/ipython-input-3224299421.py\u001b[0m in \u001b[0;36m<cell line: 0>\u001b[0;34m()\u001b[0m\n\u001b[0;32m----> 1\u001b[0;31m \u001b[0mprint\u001b[0m\u001b[0;34m(\u001b[0m\u001b[0mtype\u001b[0m\u001b[0;34m(\u001b[0m\u001b[0mtrue\u001b[0m\u001b[0;34m)\u001b[0m\u001b[0;34m)\u001b[0m \u001b[0;31m# True is the correct keyword for boolean\u001b[0m\u001b[0;34m\u001b[0m\u001b[0;34m\u001b[0m\u001b[0m\n\u001b[0m",
            "\u001b[0;31mNameError\u001b[0m: name 'true' is not defined"
          ]
        }
      ]
    },
    {
      "cell_type": "markdown",
      "source": [
        "BREAK : 10:00 pm - 10:10 pm"
      ],
      "metadata": {
        "id": "lrfJrCFbBK9B"
      }
    },
    {
      "cell_type": "markdown",
      "source": [
        "Variables"
      ],
      "metadata": {
        "id": "Y4U4qcZ9DtY4"
      }
    },
    {
      "cell_type": "code",
      "source": [
        "a=10 # a is a variable which has value 10\n",
        "a=20 #same variable a has now a changed value which is 20\n",
        "print(a)\n",
        "print(type(a))"
      ],
      "metadata": {
        "colab": {
          "base_uri": "https://localhost:8080/"
        },
        "id": "tqlMBF-JDvFv",
        "outputId": "50b41c8a-770b-474e-ad54-7c6ad55780b3"
      },
      "execution_count": null,
      "outputs": [
        {
          "output_type": "stream",
          "name": "stdout",
          "text": [
            "20\n",
            "<class 'int'>\n"
          ]
        }
      ]
    },
    {
      "cell_type": "code",
      "source": [
        "pi=3.14\n",
        "print(type(pi)) #3.14\n",
        "pi=3\n",
        "print(type(pi)) #3"
      ],
      "metadata": {
        "colab": {
          "base_uri": "https://localhost:8080/"
        },
        "id": "IzHAC2TvEGH-",
        "outputId": "2eddef6f-c848-4ed0-8289-ac8c4a21e8f5"
      },
      "execution_count": null,
      "outputs": [
        {
          "output_type": "stream",
          "name": "stdout",
          "text": [
            "<class 'float'>\n",
            "<class 'int'>\n"
          ]
        }
      ]
    },
    {
      "cell_type": "markdown",
      "source": [
        "Rule of Naming Variable"
      ],
      "metadata": {
        "id": "gXX4aSHVEWIc"
      }
    },
    {
      "cell_type": "code",
      "source": [
        "\"\"\"\n",
        "1. Name must start from alphabet(a-z or A-Z) or underscore (_)\n",
        "Box, store, _var, SDFGH, dhf, idfsAUHjn_\n",
        "\n",
        "2. But it cant start from a number\n",
        "1var this is not allowed\n",
        "\n",
        "3. It can not have special characters\n",
        "b@h this is not allowed\n",
        "\n",
        "4. Names are case Sensitive, a and A are different variables\n",
        "\n",
        "name -> valid\n",
        "Name1 -> valid\n",
        "_count -> valid\n",
        "user_age -> valid\n",
        "data101 -> valid\n",
        "Total_Score_2025 -> valid\n",
        "\n",
        "1name -> invalid\n",
        "@value -> invalid\n",
        "Total-Score-2025 -> invalid\n",
        "user name -> invalid"
      ],
      "metadata": {
        "id": "bA3LiCmPEZds"
      },
      "execution_count": null,
      "outputs": []
    },
    {
      "cell_type": "markdown",
      "source": [
        "Quiz 7"
      ],
      "metadata": {
        "id": "Jff0EMqaF9Lr"
      }
    },
    {
      "cell_type": "code",
      "source": [
        "\t'''\n",
        "  hELLO -> valid\n",
        "\t1_name_Input -> starts with a number invalid\n",
        "\ta * b * c -> * is a special char invalid\n",
        "\tCod3$# # $# is a special char invalid\n",
        "  '''"
      ],
      "metadata": {
        "id": "C-F7WPvKF7KS"
      },
      "execution_count": null,
      "outputs": []
    },
    {
      "cell_type": "markdown",
      "source": [
        "TypeCasting"
      ],
      "metadata": {
        "id": "sSXRweaNfShF"
      }
    },
    {
      "cell_type": "code",
      "source": [
        "# Integer to String\n",
        "a=123\n",
        "print(a)\n",
        "print(type(a)) #123\n",
        "print(type(str(a))) # \"123\""
      ],
      "metadata": {
        "colab": {
          "base_uri": "https://localhost:8080/"
        },
        "id": "usB7TE30Gfq1",
        "outputId": "70da5bf3-b660-498f-dbd9-2cede47bd5e5"
      },
      "execution_count": null,
      "outputs": [
        {
          "output_type": "stream",
          "name": "stdout",
          "text": [
            "123\n",
            "<class 'int'>\n",
            "<class 'str'>\n"
          ]
        }
      ]
    },
    {
      "cell_type": "code",
      "source": [
        "# Float to string\n",
        "b=3.14\n",
        "print(type(b))\n",
        "print(type(str(b)))"
      ],
      "metadata": {
        "colab": {
          "base_uri": "https://localhost:8080/"
        },
        "id": "Q0QadprxG3Vq",
        "outputId": "b671c92b-8076-49d5-ab81-13efbb04024b"
      },
      "execution_count": null,
      "outputs": [
        {
          "output_type": "stream",
          "name": "stdout",
          "text": [
            "<class 'float'>\n",
            "<class 'str'>\n"
          ]
        }
      ]
    },
    {
      "cell_type": "code",
      "source": [
        "#Boolean to string\n",
        "c=True\n",
        "print(type(c))\n",
        "print(type(str(c)))"
      ],
      "metadata": {
        "colab": {
          "base_uri": "https://localhost:8080/"
        },
        "id": "clBObH-XHXvT",
        "outputId": "6a84a878-573b-4d85-bc0f-b66eeb238fec"
      },
      "execution_count": null,
      "outputs": [
        {
          "output_type": "stream",
          "name": "stdout",
          "text": [
            "<class 'bool'>\n",
            "<class 'str'>\n"
          ]
        }
      ]
    },
    {
      "cell_type": "markdown",
      "source": [
        "Taking Input in Python"
      ],
      "metadata": {
        "id": "ZIPbBkHWfY2h"
      }
    },
    {
      "cell_type": "code",
      "source": [
        "# input() function\n",
        "'''\n",
        "1. It always takes string as input\n",
        "2. you can also print msgs while taking input\n",
        "input(\"your message\")\n",
        "'''"
      ],
      "metadata": {
        "id": "yOTqdnlBHzWt"
      },
      "execution_count": null,
      "outputs": []
    },
    {
      "cell_type": "code",
      "source": [
        "a=input(\"Enter the value here: \")\n",
        "print(a)\n",
        "print(type(a)) #input function always accepts string"
      ],
      "metadata": {
        "colab": {
          "base_uri": "https://localhost:8080/"
        },
        "id": "sIe-sB2oIKk1",
        "outputId": "cc8a244e-0020-4bb1-deb9-9da8c9f6f3b2"
      },
      "execution_count": null,
      "outputs": [
        {
          "output_type": "stream",
          "name": "stdout",
          "text": [
            "Enter the value here: 56\n",
            "56\n",
            "<class 'str'>\n"
          ]
        }
      ]
    },
    {
      "cell_type": "code",
      "source": [
        "b=input(\"Enter an integer value: \")\n",
        "c=int(b)\n",
        "print(c)"
      ],
      "metadata": {
        "colab": {
          "base_uri": "https://localhost:8080/"
        },
        "id": "Oxm4xvOmIzkN",
        "outputId": "d636349f-996f-4b34-eaf7-af1920770360"
      },
      "execution_count": null,
      "outputs": [
        {
          "output_type": "stream",
          "name": "stdout",
          "text": [
            "Enter an integer value: 6\n",
            "6\n"
          ]
        }
      ]
    },
    {
      "cell_type": "markdown",
      "source": [
        "Quiz 8"
      ],
      "metadata": {
        "id": "oGO7ThuQfbbX"
      }
    },
    {
      "cell_type": "code",
      "source": [
        "b = input() # input value = 234\n",
        "print(type(b))"
      ],
      "metadata": {
        "id": "ExEZ0ntWfe60",
        "colab": {
          "base_uri": "https://localhost:8080/"
        },
        "outputId": "376e8aa0-4611-417c-ef71-255b9e5db873"
      },
      "execution_count": null,
      "outputs": [
        {
          "output_type": "stream",
          "name": "stdout",
          "text": [
            "234\n",
            "<class 'str'>\n"
          ]
        }
      ]
    },
    {
      "cell_type": "markdown",
      "source": [
        "Adding Two Numbers"
      ],
      "metadata": {
        "id": "36ZwanpufdkH"
      }
    },
    {
      "cell_type": "code",
      "source": [
        "a=input()\n",
        "b=input()\n",
        "\n",
        "print(a+b) #string concatenation -> incorrect approach"
      ],
      "metadata": {
        "colab": {
          "base_uri": "https://localhost:8080/"
        },
        "id": "M1f3Ks8hJ19Z",
        "outputId": "44535baf-e5cc-4a2e-ab86-310a877f1956"
      },
      "execution_count": null,
      "outputs": [
        {
          "output_type": "stream",
          "name": "stdout",
          "text": [
            "10\n",
            "20\n",
            "1020\n"
          ]
        }
      ]
    },
    {
      "cell_type": "code",
      "source": [
        "a=input()\n",
        "b=input()\n",
        "\n",
        "print(int(a+b)) # converts string to int -> incorrect approach"
      ],
      "metadata": {
        "id": "RQShJoJcKT0m"
      },
      "execution_count": null,
      "outputs": []
    },
    {
      "cell_type": "code",
      "source": [
        "a=int(input())\n",
        "b=int(input())\n",
        "\n",
        "print(a+b) #integer addition -> correct approach"
      ],
      "metadata": {
        "colab": {
          "base_uri": "https://localhost:8080/"
        },
        "id": "lxPxDTQ8KB5N",
        "outputId": "0d808199-2b86-4159-b280-5829ff8012ed"
      },
      "execution_count": null,
      "outputs": [
        {
          "output_type": "stream",
          "name": "stdout",
          "text": [
            "10\n",
            "20\n",
            "30\n"
          ]
        }
      ]
    },
    {
      "cell_type": "markdown",
      "source": [
        "Printing Output in Python"
      ],
      "metadata": {
        "id": "zR644_mpfnFu"
      }
    },
    {
      "cell_type": "code",
      "source": [
        "a=10\n",
        "b=20\n",
        "print(a,b)"
      ],
      "metadata": {
        "id": "8sm23xJEfmsd",
        "colab": {
          "base_uri": "https://localhost:8080/"
        },
        "outputId": "a793ebb1-f446-44fe-bc86-f2fdb2053976"
      },
      "execution_count": null,
      "outputs": [
        {
          "output_type": "stream",
          "name": "stdout",
          "text": [
            "10 20\n"
          ]
        }
      ]
    },
    {
      "cell_type": "code",
      "source": [
        "'''\n",
        "sep and end\n",
        "\n",
        "sep defines what seperates the value (default is space)\n",
        "end defines what appears at the end of the statement (default is new line)"
      ],
      "metadata": {
        "id": "NBGwcmFJKmrm"
      },
      "execution_count": null,
      "outputs": []
    },
    {
      "cell_type": "code",
      "source": [
        "print(\"John\",\"Doe\")\n",
        "print(\"John\",\"Doe\",sep=\"-\")\n",
        "print(10,20,sep=\"@\")\n",
        "print(1,2,3,4,5,6,7,8,sep=\"\\n\")"
      ],
      "metadata": {
        "colab": {
          "base_uri": "https://localhost:8080/"
        },
        "id": "mW0T-kAZK6jv",
        "outputId": "5a82c2ce-50f5-41ce-8dae-d23b2d1445a2"
      },
      "execution_count": null,
      "outputs": [
        {
          "output_type": "stream",
          "name": "stdout",
          "text": [
            "John Doe\n",
            "John-Doe\n",
            "10@20\n",
            "1\n",
            "2\n",
            "3\n",
            "4\n",
            "5\n",
            "6\n",
            "7\n",
            "8\n"
          ]
        }
      ]
    },
    {
      "cell_type": "code",
      "source": [
        "print(1,2,3,end=\" \")\n",
        "print(4)"
      ],
      "metadata": {
        "colab": {
          "base_uri": "https://localhost:8080/"
        },
        "id": "Im6xVjgEK_ou",
        "outputId": "fd9c4c21-1073-4d1f-e231-927adf4cde07"
      },
      "execution_count": null,
      "outputs": [
        {
          "output_type": "stream",
          "name": "stdout",
          "text": [
            "1 2 3 4\n"
          ]
        }
      ]
    },
    {
      "cell_type": "code",
      "source": [
        "print(1,2,3,4,sep=\"-\",end=\"+\")\n",
        "print(5)"
      ],
      "metadata": {
        "colab": {
          "base_uri": "https://localhost:8080/"
        },
        "id": "JuoOXWx1LyIs",
        "outputId": "a2659115-bdae-4111-b49d-3e23abdc6fef"
      },
      "execution_count": null,
      "outputs": [
        {
          "output_type": "stream",
          "name": "stdout",
          "text": [
            "1-2-3-4+5\n"
          ]
        }
      ]
    },
    {
      "cell_type": "markdown",
      "source": [
        "Quiz 9"
      ],
      "metadata": {
        "id": "j7yD_GK7fqGd"
      }
    },
    {
      "cell_type": "code",
      "source": [
        "a = 5\n",
        "b = 6\n",
        "print(a, b)"
      ],
      "metadata": {
        "id": "XZukBWKzfpzL",
        "colab": {
          "base_uri": "https://localhost:8080/"
        },
        "outputId": "c5785235-dbb7-4840-a4d4-ccc79bf41e52"
      },
      "execution_count": null,
      "outputs": [
        {
          "output_type": "stream",
          "name": "stdout",
          "text": [
            "5 6\n"
          ]
        }
      ]
    },
    {
      "cell_type": "markdown",
      "source": [
        "Quiz 10"
      ],
      "metadata": {
        "id": "YSG7c36Rfve9"
      }
    },
    {
      "cell_type": "code",
      "source": [
        "a = 5\n",
        "b = 6\n",
        "print(a)\n",
        "print(b)"
      ],
      "metadata": {
        "id": "dqRLEwhIfv-R",
        "colab": {
          "base_uri": "https://localhost:8080/"
        },
        "outputId": "57d82bad-5aa8-4dc3-d75c-151b7b043e93"
      },
      "execution_count": null,
      "outputs": [
        {
          "output_type": "stream",
          "name": "stdout",
          "text": [
            "5\n",
            "6\n"
          ]
        }
      ]
    },
    {
      "cell_type": "markdown",
      "source": [
        "Quiz 11"
      ],
      "metadata": {
        "id": "veczzda0f1dR"
      }
    },
    {
      "cell_type": "code",
      "source": [
        "print(\"I\", \"Love\", \"Python\", sep = \"-\")"
      ],
      "metadata": {
        "id": "pNDIdUPff065",
        "colab": {
          "base_uri": "https://localhost:8080/"
        },
        "outputId": "dec973f7-1a12-487b-9475-c8ed7a6dce7b"
      },
      "execution_count": null,
      "outputs": [
        {
          "output_type": "stream",
          "name": "stdout",
          "text": [
            "I-Love-Python\n"
          ]
        }
      ]
    },
    {
      "cell_type": "markdown",
      "source": [
        "DOUBTS"
      ],
      "metadata": {
        "id": "eSsN5T0TO1vd"
      }
    },
    {
      "cell_type": "code",
      "source": [
        "print(1,end=\"\")\n",
        "print(12,end=\"\")\n",
        "print(123,end=\"\")\n",
        "print(1234,end=\"\")\n",
        "#end = \\n"
      ],
      "metadata": {
        "colab": {
          "base_uri": "https://localhost:8080/"
        },
        "id": "WD7XDr9DO2za",
        "outputId": "af5e7e4b-349a-4339-b2fa-c316ebbd4cb5"
      },
      "execution_count": null,
      "outputs": [
        {
          "output_type": "stream",
          "name": "stdout",
          "text": [
            "1121231234"
          ]
        }
      ]
    }
  ]
}