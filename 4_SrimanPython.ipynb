{
  "cells": [
    {
      "cell_type": "markdown",
      "metadata": {
        "id": "view-in-github",
        "colab_type": "text"
      },
      "source": [
        "<a href=\"https://colab.research.google.com/github/sriman-colab/sriman-repository/blob/main/4_SrimanPython.ipynb\" target=\"_parent\"><img src=\"https://colab.research.google.com/assets/colab-badge.svg\" alt=\"Open In Colab\"/></a>"
      ]
    },
    {
      "cell_type": "code",
      "execution_count": 4,
      "metadata": {
        "colab": {
          "base_uri": "https://localhost:8080/",
          "height": 104
        },
        "id": "PrcmodrK0Q88",
        "outputId": "73595aba-35bb-456c-8e46-55c3bbe44236"
      },
      "outputs": [
        {
          "output_type": "execute_result",
          "data": {
            "text/plain": [
              "'\\n#Problem: Add all Odd numbers in given range\\ndef main():\\n    A = int(input())\\n\\n    total = 0  # Initialize R\\n    for i in range(1, A+1):\\n        if i % 2 == 1:\\n            total += i\\n\\n    print(total)\\n\\nif __name__ == \"__main__\":\\n    main()\\n_______\\n#Print all natural in range with Space\\ndef main():\\n    N = int(input())\\n    for i in range(1, N+1):\\n        print(i, end=\" \")\\n\\nif __name__ == \"__main__\":\\n    main()\\n____________\\n# print N.. 5 4 3 2 1..\\nN = int(input())\\nfor i in range (0, N):\\n    print(N-i, end=\" \") \\n__________\\n# print odd numbers 1 3 5 7 .. N\\ndef main():\\n  N = int(input())\\n  for i in range(1, N+1):\\n      if (i % 2) == 1:\\n          print(i, end=\" \")\\n\\nif __name__ == \"__main__\":\\n    main()\\n'"
            ],
            "application/vnd.google.colaboratory.intrinsic+json": {
              "type": "string"
            }
          },
          "metadata": {},
          "execution_count": 4
        }
      ],
      "source": [
        "\"\"\"\n",
        "#Problem: Add all Odd numbers in given range\n",
        "def main():\n",
        "    A = int(input())\n",
        "\n",
        "    total = 0  # Initialize R\n",
        "    for i in range(1, A+1):\n",
        "        if i % 2 == 1:\n",
        "            total += i\n",
        "\n",
        "    print(total)\n",
        "\n",
        "if __name__ == \"__main__\":\n",
        "    main()\n",
        "_______\n",
        "#Print all natural in range with Space\n",
        "def main():\n",
        "    N = int(input())\n",
        "    for i in range(1, N+1):\n",
        "        print(i, end=\" \")\n",
        "\n",
        "if __name__ == \"__main__\":\n",
        "    main()\n",
        "____________\n",
        "# print N.. 5 4 3 2 1..\n",
        "N = int(input())\n",
        "for i in range (0, N):\n",
        "    print(N-i, end=\" \")\n",
        "__________\n",
        "# print odd numbers 1 3 5 7 .. N\n",
        "def main():\n",
        "  N = int(input())\n",
        "  for i in range(1, N+1):\n",
        "      if (i % 2) == 1:\n",
        "          print(i, end=\" \")\n",
        "\n",
        "if __name__ == \"__main__\":\n",
        "    main()\n",
        "\"\"\""
      ]
    },
    {
      "cell_type": "code",
      "execution_count": null,
      "metadata": {
        "id": "5hC8qGQ828zy"
      },
      "outputs": [],
      "source": []
    }
  ],
  "metadata": {
    "colab": {
      "provenance": [],
      "authorship_tag": "ABX9TyMarEp3K8N9zPvBp2ZBVtag",
      "include_colab_link": true
    },
    "kernelspec": {
      "display_name": "Python 3",
      "name": "python3"
    },
    "language_info": {
      "name": "python"
    }
  },
  "nbformat": 4,
  "nbformat_minor": 0
}