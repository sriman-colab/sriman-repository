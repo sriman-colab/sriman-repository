{
  "cells": [
    {
      "cell_type": "markdown",
      "metadata": {
        "id": "view-in-github",
        "colab_type": "text"
      },
      "source": [
        "<a href=\"https://colab.research.google.com/github/sriman-colab/sriman-repository/blob/main/4_SrimanPython.ipynb\" target=\"_parent\"><img src=\"https://colab.research.google.com/assets/colab-badge.svg\" alt=\"Open In Colab\"/></a>"
      ]
    },
    {
      "cell_type": "code",
      "execution_count": 23,
      "metadata": {
        "colab": {
          "base_uri": "https://localhost:8080/"
        },
        "id": "PrcmodrK0Q88",
        "outputId": "cbf98638-25fd-44b4-db38-9cea0ad9828b"
      },
      "outputs": [
        {
          "output_type": "stream",
          "name": "stdout",
          "text": [
            "50\n",
            "1 4 9 16 25 36 49 "
          ]
        }
      ],
      "source": [
        "\"\"\"\n",
        "#Problem: Add all Odd numbers in given range\n",
        "def main():\n",
        "    A = int(input())\n",
        "\n",
        "    total = 0  # Initialize R\n",
        "    for i in range(1, A+1):\n",
        "        if i % 2 == 1:\n",
        "            total += i\n",
        "\n",
        "    print(total)\n",
        "\n",
        "if __name__ == \"__main__\":\n",
        "    main()\n",
        "_______\n",
        "#Print all natural in range with Space\n",
        "def main():\n",
        "    N = int(input())\n",
        "    for i in range(1, N+1):\n",
        "        print(i, end=\" \")\n",
        "\n",
        "if __name__ == \"__main__\":\n",
        "    main()\n",
        "____________\n",
        "# print N.. 5 4 3 2 1..\n",
        "N = int(input())\n",
        "for i in range (0, N):\n",
        "    print(N-i, end=\" \")\n",
        "__________\n",
        "# print odd numbers 1 3 5 7 .. N\n",
        "def main():\n",
        "  N = int(input())\n",
        "  for i in range(1, N+1):\n",
        "      if (i % 2) == 1:\n",
        "          print(i, end=\" \")\n",
        "\n",
        "if __name__ == \"__main__\":\n",
        "    main()\n",
        "_____________\n",
        "# 4 table till N value:\n",
        "def main():\n",
        "  n = int(input())\n",
        "  for i in range(1, n):\n",
        "      if (i*4) <= n:\n",
        "          print(i*4, end=\" \")\n",
        "\n",
        "if __name__ == \"__main__\":\n",
        "  main()\n",
        "_________________\n",
        "# You are given a positive integer A. You have to print the sum of all even numbers in the range [1, A].\n",
        "def main():\n",
        "    A = int(input())\n",
        "    r = 0\n",
        "    for i in range (1, A+1):\n",
        "        if (i%2 == 0):\n",
        "            r +=i\n",
        "    print(r)\n",
        "\n",
        "    return 0\n",
        "\n",
        "if __name__ == '__main__':\n",
        "    main()\n",
        "__________\n",
        "#Take a number A as input, print its multiplication table having the first 10 multiples.\n",
        "def main():\n",
        "    A = int(input())\n",
        "    for i in range (1, 11):\n",
        "        print(A,\"*\",i,\"=\",A*i)\n",
        "\n",
        "    return 0\n",
        "\n",
        "if __name__ == '__main__':\n",
        "    main()\n",
        "__________\n",
        "#You are given two integers A and B. You have to find the value of A^B.\n",
        "#NOTE: The value of AB will always be less than or equal to 10^9.\n",
        "A = int(input())\n",
        "B = int(input())\n",
        "print(A**B)\n",
        "__________\n",
        "#Problem Description\n",
        "#Take an input of a number A from the user. Print all perfect squares less than or equal to A.\n",
        "#Note - Perfect squares are integers whose square root is an integer. (For Example: 16 is perfect square as √16 = 4, or 42 = 16)\n",
        "A = int(input())\n",
        "i = 1\n",
        "while i * i <= A:\n",
        "    print(i * i, end=\" \")\n",
        "    i += 1\n",
        "__________\n",
        "\"\"\"\n"
      ]
    },
    {
      "cell_type": "code",
      "execution_count": null,
      "metadata": {
        "id": "5hC8qGQ828zy"
      },
      "outputs": [],
      "source": []
    }
  ],
  "metadata": {
    "colab": {
      "provenance": [],
      "authorship_tag": "ABX9TyPkAmlER8L9R1MoyLcNxs3n",
      "include_colab_link": true
    },
    "kernelspec": {
      "display_name": "Python 3",
      "name": "python3"
    },
    "language_info": {
      "name": "python"
    }
  },
  "nbformat": 4,
  "nbformat_minor": 0
}