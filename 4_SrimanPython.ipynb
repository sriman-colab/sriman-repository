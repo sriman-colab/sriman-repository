{
  "cells": [
    {
      "cell_type": "markdown",
      "metadata": {
        "id": "view-in-github",
        "colab_type": "text"
      },
      "source": [
        "<a href=\"https://colab.research.google.com/github/sriman-colab/sriman-repository/blob/main/4_SrimanPython.ipynb\" target=\"_parent\"><img src=\"https://colab.research.google.com/assets/colab-badge.svg\" alt=\"Open In Colab\"/></a>"
      ]
    },
    {
      "cell_type": "code",
      "execution_count": 11,
      "metadata": {
        "colab": {
          "base_uri": "https://localhost:8080/"
        },
        "id": "PrcmodrK0Q88",
        "outputId": "d311dea3-3dc2-4885-d2ae-5f07e1fa1aa3"
      },
      "outputs": [
        {
          "output_type": "stream",
          "name": "stdout",
          "text": [
            "87\n",
            "4 8 12 16 20 24 28 32 36 40 44 48 52 56 60 64 68 72 76 80 84 "
          ]
        }
      ],
      "source": [
        "\"\"\"\n",
        "#Problem: Add all Odd numbers in given range\n",
        "def main():\n",
        "    A = int(input())\n",
        "\n",
        "    total = 0  # Initialize R\n",
        "    for i in range(1, A+1):\n",
        "        if i % 2 == 1:\n",
        "            total += i\n",
        "\n",
        "    print(total)\n",
        "\n",
        "if __name__ == \"__main__\":\n",
        "    main()\n",
        "_______\n",
        "#Print all natural in range with Space\n",
        "def main():\n",
        "    N = int(input())\n",
        "    for i in range(1, N+1):\n",
        "        print(i, end=\" \")\n",
        "\n",
        "if __name__ == \"__main__\":\n",
        "    main()\n",
        "____________\n",
        "# print N.. 5 4 3 2 1..\n",
        "N = int(input())\n",
        "for i in range (0, N):\n",
        "    print(N-i, end=\" \")\n",
        "__________\n",
        "# print odd numbers 1 3 5 7 .. N\n",
        "def main():\n",
        "  N = int(input())\n",
        "  for i in range(1, N+1):\n",
        "      if (i % 2) == 1:\n",
        "          print(i, end=\" \")\n",
        "\n",
        "if __name__ == \"__main__\":\n",
        "    main()\n",
        "_____________\n",
        "# 4 table till N value:\n",
        "def main():\n",
        "  n = int(input())\n",
        "  for i in range(1, n):\n",
        "      if (i*4) <= n:\n",
        "          print(i*4, end=\" \")\n",
        "\n",
        "if __name__ == \"__main__\":\n",
        "  main()\n",
        "_________________\n",
        "\"\"\"\n"
      ]
    },
    {
      "cell_type": "code",
      "execution_count": null,
      "metadata": {
        "id": "5hC8qGQ828zy"
      },
      "outputs": [],
      "source": []
    }
  ],
  "metadata": {
    "colab": {
      "provenance": [],
      "authorship_tag": "ABX9TyNuOY2JwDEdxsU/H7aRLJ7d",
      "include_colab_link": true
    },
    "kernelspec": {
      "display_name": "Python 3",
      "name": "python3"
    },
    "language_info": {
      "name": "python"
    }
  },
  "nbformat": 4,
  "nbformat_minor": 0
}