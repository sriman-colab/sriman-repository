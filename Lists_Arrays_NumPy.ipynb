{
  "nbformat": 4,
  "nbformat_minor": 0,
  "metadata": {
    "colab": {
      "provenance": [],
      "authorship_tag": "ABX9TyN2QYgE2TeJo3087HuIPeLu",
      "include_colab_link": true
    },
    "kernelspec": {
      "name": "python3",
      "display_name": "Python 3"
    },
    "language_info": {
      "name": "python"
    }
  },
  "cells": [
    {
      "cell_type": "markdown",
      "metadata": {
        "id": "view-in-github",
        "colab_type": "text"
      },
      "source": [
        "<a href=\"https://colab.research.google.com/github/sriman-colab/sriman-repository/blob/main/Lists_Arrays_NumPy.ipynb\" target=\"_parent\"><img src=\"https://colab.research.google.com/assets/colab-badge.svg\" alt=\"Open In Colab\"/></a>"
      ]
    },
    {
      "cell_type": "code",
      "source": [
        "\"\"\"\n",
        "****************** LISTS ***************************\n",
        "✅ These cover most operations you can do on Python lists:\n",
        "Create\n",
        "Access\n",
        "Modify\n",
        "Delete\n",
        "Search\n",
        "Sort\n",
        "Iterate\n",
        "Combine / Split\n",
        "Math functions\n",
        "Comprehensions\n",
        "\"\"\"\n",
        "# Here’s a big list of activities you can do with it ⬇️\n",
        "\n",
        "listname = [1, 2, 3, 4, \"as\", \"add\", 0.45, True]\n",
        "\n",
        "print(listname)      # Prints the list as a whole\n",
        "print(*listname)     # Unpacks and prints each element\n",
        "# In Python, the * before a list is called the unpacking operator (or iterable unpacking).\n",
        "\n",
        "#🔹 Accessing Elements\n",
        "print(listname[0])   # First element → 1\n",
        "print(listname[-1])  # Last element → True\n",
        "print(listname[2:5]) # Slice → [3, 4, 'as']\n",
        "\n",
        "#🔹 Modifying Elements\n",
        "listname[1] = 200       # Change index 1 → [1, 200, 3, 4, ...]\n",
        "listname.append(\"new\")  # Add at end\n",
        "listname.insert(2, 99)  # Insert at index 2\n",
        "listname.extend([5, 6]) # Extend with another list\n",
        "\n",
        "#🔹 Removing Elements\n",
        "listname.remove(\"as\")   # Remove by value\n",
        "listname.pop()          # Remove last element\n",
        "listname.pop(2)         # Remove element at index 2\n",
        "del listname[0]         # Delete first element\n",
        "# listname.clear()        # Remove all elements\n",
        "\n",
        "#🔹 Searching\n",
        "print(listname.index(4))    # Find index of element 4\n",
        "print(200 in listname)      # Check if 200 exists → True/False\n",
        "print(listname.count(3))    # Count occurrences of 3\n",
        "\n",
        "#🔹 Sorting & Reversing\n",
        "numbers = [4, 1, 7, 2]\n",
        "numbers.sort()             # Ascending → [1, 2, 4, 7]\n",
        "numbers.sort(reverse=True) # Descending → [7, 4, 2, 1]\n",
        "numbers.reverse()          # Just reverse order\n",
        "\n",
        "#🔹 Copying\n",
        "copy_list = listname.copy()\n",
        "\n",
        "#🔹 Iterating\n",
        "for item in listname:\n",
        "    print(item)\n",
        "\n",
        "for i, val in enumerate(listname):\n",
        "    print(\"Index:\", i, \"Value:\", val)\n",
        "\n",
        "#🔹 Joining / Splitting\n",
        "letters = [\"a\", \"b\", \"c\"]\n",
        "joined = \"-\".join(letters)   # \"a-b-c\"\n",
        "\n",
        "text = \"x,y,z\"\n",
        "split_list = text.split(\",\") # ['x', 'y', 'z']\n",
        "\n",
        "#🔹 Mathematical Operations (if numeric)\n",
        "nums = [1, 2, 3, 4, 5]\n",
        "print(sum(nums))   # 15\n",
        "print(max(nums))   # 5\n",
        "print(min(nums))   # 1\n",
        "print(len(nums))   # 5\n",
        "\n",
        "#🔹 Advanced (List Comprehension)\n",
        "squares = [x**2 for x in [1, 2, 3, 4, 5]]  # [1, 4, 9, 16, 25]\n",
        "evens = [x for x in range(10) if x % 2 == 0]  # [0, 2, 4, 6, 8]"
      ],
      "metadata": {
        "id": "sg1wQL8JvjeK"
      },
      "execution_count": null,
      "outputs": []
    },
    {
      "cell_type": "code",
      "source": [],
      "metadata": {
        "id": "GdydX1WlnHFc"
      },
      "execution_count": null,
      "outputs": []
    }
  ]
}