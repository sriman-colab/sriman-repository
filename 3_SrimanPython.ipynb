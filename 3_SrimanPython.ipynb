{
  "nbformat": 4,
  "nbformat_minor": 0,
  "metadata": {
    "colab": {
      "provenance": [],
      "authorship_tag": "ABX9TyNhhJ/E8yojKuiEF9hzN7WU",
      "include_colab_link": true
    },
    "kernelspec": {
      "name": "python3",
      "display_name": "Python 3"
    },
    "language_info": {
      "name": "python"
    }
  },
  "cells": [
    {
      "cell_type": "markdown",
      "metadata": {
        "id": "view-in-github",
        "colab_type": "text"
      },
      "source": [
        "<a href=\"https://colab.research.google.com/github/sriman-colab/sriman-repository/blob/main/3_SrimanPython.ipynb\" target=\"_parent\"><img src=\"https://colab.research.google.com/assets/colab-badge.svg\" alt=\"Open In Colab\"/></a>"
      ]
    },
    {
      "cell_type": "code",
      "execution_count": 31,
      "metadata": {
        "colab": {
          "base_uri": "https://localhost:8080/",
          "height": 106
        },
        "id": "xPRJ2qnIk6sO",
        "outputId": "cf90c59f-38f0-4e51-e6ad-1c7306a5a487"
      },
      "outputs": [
        {
          "output_type": "error",
          "ename": "SyntaxError",
          "evalue": "invalid syntax (ipython-input-3478679832.py, line 59)",
          "traceback": [
            "\u001b[0;36m  File \u001b[0;32m\"/tmp/ipython-input-3478679832.py\"\u001b[0;36m, line \u001b[0;32m59\u001b[0m\n\u001b[0;31m    elif ((evenum == 0) and (n >= 2100)):\u001b[0m\n\u001b[0m    ^\u001b[0m\n\u001b[0;31mSyntaxError\u001b[0m\u001b[0;31m:\u001b[0m invalid syntax\n"
          ]
        }
      ],
      "source": [
        "\"\"\"\n",
        "_______________\n",
        "def main():\n",
        "  N = int(input())\n",
        "  result = N % 2\n",
        "  if (result != 0):\n",
        "    print(\"1\")\n",
        "  else:\n",
        "    ptint(\"0\")\n",
        "_______________\n",
        "Problem Description: Write a program to input two numbers(A & B) from user and print the maximum element among A & B.\n",
        "\n",
        "def main():\n",
        "  A = int(input())\n",
        "  B = int(input())\n",
        "  if (A >= B):\n",
        "    print(A)\n",
        "  else:\n",
        "    print(B)\n",
        "\n",
        "if __name__ == \"__main__\":\n",
        "  main()\n",
        "_____________\n",
        "Q:Write a program to input two numbers(A & B) from user and print the minimum element among A & B in each line.\n",
        "# YOUR CODE GOES HERE\n",
        "def main():\n",
        "    A = int(input())\n",
        "    B = int(input())\n",
        "    if (A <= B):\n",
        "        print(A)\n",
        "    else:\n",
        "        print(B)\n",
        "\n",
        "if __name__ == \"__main__\":\n",
        "    main()\n",
        "_________________\n",
        "Problem Description:\n",
        "Write a program to input from user an integer(n) representing the rating of a person on a platform.\n",
        "You have to print the category of that person.\n",
        "If the rating is greater than or equal to 2100 then that person is \"grand master\".\n",
        "If the rating is greater than or equal to 1900 then that person is \"candidate master\".\n",
        "If the rating is greater than or equal to 1600 then that person is \"expert\".\n",
        "If the rating is greater than or equal to 1400 then that person is \"pupil\".\n",
        "If the rating is smaller than 1400 then that person is \"newbie\".\n",
        "NOTE: Print all the chars of the category of the person in lowercase if rating is odd otherwise print in UPPERCASE\n",
        "Example Input\n",
        "Input 1:\n",
        "1659\n",
        "Input 2:\n",
        "2100\n",
        "Example Output\n",
        "Output 1:cexpert\n",
        "Output 2:GRAND MASTER\n",
        "\"\"\"\n",
        "def main():\n",
        "  n = int(input())\n",
        "  evenum = int(n % 2)\n",
        "  if (n >=1000):\n",
        "    elif ((evenum == 0) and (n >= 2100)):\n",
        "    print(\"GRAND MASTER\")\n",
        "  elif ((evenum != 0) and (n >= 2100)):\n",
        "    print(\"grand master\")\n",
        "  elif ((evenum == 0) and (n >= 1900)):\n",
        "    print(\"CANDIDATE MASTER\")\n",
        "  elif ((evenum != 0) and (n >= 1900)):\n",
        "    print(\"candidate master\")\n",
        "  elif ((evenum == 0) and (n >= 1600)):\n",
        "    print(\"EXPERT\")\n",
        "  elif ((evenum != 0) and (n >= 1600)):\n",
        "    print(\"expert\")\n",
        "  elif ((evenum == 0) and (n >= 1400)):\n",
        "    print(\"PUPIL\")\n",
        "  elif ((evenum != 0) and (n >= 1400)):\n",
        "    print(\"grand master\")\n",
        "  elif ((evenum == 0) and (n < 1400)):\n",
        "    print(\"GRAND MASTER\")\n",
        "  elif ((evenum != 0) and (n < 1400)):\n",
        "    print(\"grand master\")\n",
        "\n",
        "if __name__ == \"__main__\":\n",
        "  main()\n",
        "\n",
        "________________\n",
        "\n",
        "def main():\n",
        "    n = int(input(\"Enter rating: \"))\n",
        "\n",
        "    if n >= 2100:\n",
        "        category = \"grand master\"\n",
        "    elif n >= 1900:\n",
        "        category = \"candidate master\"\n",
        "    elif n >= 1600:\n",
        "        category = \"expert\"\n",
        "    elif n >= 1400:\n",
        "        category = \"pupil\"\n",
        "    else:\n",
        "        category = \"newbie\"\n",
        "\n",
        "    # If rating is odd -> lowercase, else uppercase\n",
        "    if n % 2 == 1:\n",
        "        print(category.lower())\n",
        "    else:\n",
        "        print(category.upper())\n",
        "\n",
        "\n",
        "if __name__ == \"__main__\":\n",
        "    main()\n",
        "\n",
        "______________\n"
      ]
    },
    {
      "cell_type": "code",
      "source": [],
      "metadata": {
        "id": "AvQkAOS7lLA7"
      },
      "execution_count": null,
      "outputs": []
    }
  ]
}