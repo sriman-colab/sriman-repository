{
  "nbformat": 4,
  "nbformat_minor": 0,
  "metadata": {
    "colab": {
      "provenance": [],
      "authorship_tag": "ABX9TyNkdAJGc/xpiJY7dpb5914J",
      "include_colab_link": true
    },
    "kernelspec": {
      "name": "python3",
      "display_name": "Python 3"
    },
    "language_info": {
      "name": "python"
    }
  },
  "cells": [
    {
      "cell_type": "markdown",
      "metadata": {
        "id": "view-in-github",
        "colab_type": "text"
      },
      "source": [
        "<a href=\"https://colab.research.google.com/github/sriman-colab/sriman-repository/blob/main/8day_1stSep_Python.ipynb\" target=\"_parent\"><img src=\"https://colab.research.google.com/assets/colab-badge.svg\" alt=\"Open In Colab\"/></a>"
      ]
    },
    {
      "cell_type": "code",
      "execution_count": 9,
      "metadata": {
        "colab": {
          "base_uri": "https://localhost:8080/"
        },
        "id": "goWc3optIi0_",
        "outputId": "d5ad2c2a-0554-4b0d-ee18-f3596af49686"
      },
      "outputs": [
        {
          "output_type": "stream",
          "name": "stdout",
          "text": [
            "5 1 2 3 4 5 \n",
            "5 1\n"
          ]
        }
      ],
      "source": [
        "\"\"\"\n",
        "Problem Description\n",
        "Take input an array A of size N and write a program to print maximum and minimum elements of the input. The only line of the input would contain a single integer N that represents the length of the array followed by the N elements of the input array A.\n",
        "\"\"\"\n",
        "data = list(map(int, input().split()))\n",
        "N = data[0]\n",
        "A = data[1::]\n",
        "\n",
        "# First check validity\n",
        "if len(A) != N:\n",
        "    print(\"invalid input range\")\n",
        "else:\n",
        "    Max = max(A)\n",
        "    Min = min(A)\n",
        "    print(Max, Min)\n"
      ]
    }
  ]
}