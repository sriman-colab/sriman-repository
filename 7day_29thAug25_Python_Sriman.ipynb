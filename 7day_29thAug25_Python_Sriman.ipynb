{
  "nbformat": 4,
  "nbformat_minor": 0,
  "metadata": {
    "colab": {
      "provenance": [],
      "authorship_tag": "ABX9TyOa512crKZPJ0y2t0ZuVC4j",
      "include_colab_link": true
    },
    "kernelspec": {
      "name": "python3",
      "display_name": "Python 3"
    },
    "language_info": {
      "name": "python"
    }
  },
  "cells": [
    {
      "cell_type": "markdown",
      "metadata": {
        "id": "view-in-github",
        "colab_type": "text"
      },
      "source": [
        "<a href=\"https://colab.research.google.com/github/sriman-colab/sriman-repository/blob/main/7day_29thAug25_Python_Sriman.ipynb\" target=\"_parent\"><img src=\"https://colab.research.google.com/assets/colab-badge.svg\" alt=\"Open In Colab\"/></a>"
      ]
    },
    {
      "cell_type": "code",
      "execution_count": null,
      "metadata": {
        "id": "Zt_us1X5UEIr"
      },
      "outputs": [],
      "source": [
        "def calculate_sum(input_list):\n",
        "    # First element is size, rest are list values\n",
        "    n = input_list[0]\n",
        "    numbers = input_list[1:]\n",
        "\n",
        "    # Optional check\n",
        "    if len(numbers) != n:\n",
        "        raise ValueError(\"List size does not match the given number N\")\n",
        "\n",
        "    print(sum(numbers))"
      ]
    },
    {
      "cell_type": "code",
      "source": [
        "def duplicate(ls, n):\n",
        "    ''' input: ls - List of elements and n - length of list\n",
        "        output: Return True if consecutive duplicates exist else False '''\n",
        "\n",
        "    for i in range(n - 1):\n",
        "        if ls[i] == ls[i + 1]:  # check consecutive elements\n",
        "            return True\n",
        "    return False"
      ],
      "metadata": {
        "id": "m5NwdMXsPrnx"
      },
      "execution_count": null,
      "outputs": []
    },
    {
      "cell_type": "code",
      "source": [
        "#print second max value of array\n",
        "A = list(map(int,input(\"\").split()))\n",
        "\n",
        "A = A.remove(max(A))\n",
        "print(A)\n"
      ],
      "metadata": {
        "colab": {
          "base_uri": "https://localhost:8080/"
        },
        "id": "5DC6h4C5NeTU",
        "outputId": "e76ef5a2-9bac-465f-f349-328026c7c803"
      },
      "execution_count": null,
      "outputs": [
        {
          "output_type": "stream",
          "name": "stdout",
          "text": [
            "1 4 6 89 4 3 678 1 4 44\n",
            "None\n"
          ]
        }
      ]
    },
    {
      "cell_type": "code",
      "source": [
        "\"\"\"\n",
        "Find the maximum element (largest).\n",
        "Remove all occurrences of that maximum from the list.\n",
        "If the list still has elements left, the new max() is the second largest.\n",
        "If the list is empty after removing, return -1.\n",
        "\"\"\"\n",
        "def find_second_largest(input_list):\n",
        "  return -1 if len(input_list) < 2 else sorted(set(input_list))[-2]\n",
        "\n",
        "A = list(map(int,input(\"\").split()))\n",
        "print(find_second_largest(A))"
      ],
      "metadata": {
        "colab": {
          "base_uri": "https://localhost:8080/"
        },
        "id": "AHYgEcPzUAwn",
        "outputId": "dc739ef4-d43a-4123-8d40-b8ee99bc2166"
      },
      "execution_count": null,
      "outputs": [
        {
          "output_type": "stream",
          "name": "stdout",
          "text": [
            "2 4 5 77 8 9 00 77 89\n",
            "77\n"
          ]
        }
      ]
    },
    {
      "cell_type": "code",
      "source": [
        "\"\"\"\n",
        "Find the maximum element (largest).\n",
        "Remove all occurrences of that maximum from the list.\n",
        "If the list still has elements left, the new max() is the second largest.\n",
        "If the list is empty after removing, return -1.\n",
        "--- using CLASS ---\n",
        "\"\"\"\n"
      ],
      "metadata": {
        "id": "p2Nw8QgqVQEU"
      },
      "execution_count": null,
      "outputs": []
    },
    {
      "cell_type": "code",
      "source": [
        "\"\"\"\n",
        "Problem Description\n",
        "\n",
        "Write a program to input N numbers array, A from the user and an integer X and print the array by deleting element at specified position X.\n",
        "\n",
        "Note:\n",
        "In this problem, positions are 1-based (the first element is at position 1).\n",
        "But in most programming languages, arrays/lists are 0-based (the first element is at index 0).\n",
        "\n",
        "So if the position given is X, you should access it using index X - 1.\n",
        "\"\"\"\n",
        "def main():\n",
        "    # YOUR CODE GOES HERE\n",
        "    # Please take input and print output to standard input/output (stdin/stdout)\n",
        "    # E.g. 'input()/raw_input()' for input & 'print' for output\n",
        "    N = int(input())\n",
        "    A = list(map(int,input(\"\").split()))\n",
        "    X = int(input())\n",
        "\n",
        "    if 1<= X <= N:\n",
        "        del A[X-1]\n",
        "    print(*A, end=\" \")\n",
        "\n",
        "    return 0\n",
        "\n",
        "if __name__ == '__main__':\n",
        "    main()"
      ],
      "metadata": {
        "colab": {
          "base_uri": "https://localhost:8080/"
        },
        "id": "1Bfo1UEW9g8F",
        "outputId": "e592dcf0-b6ff-415e-b5d5-471433384a94"
      },
      "execution_count": null,
      "outputs": [
        {
          "output_type": "stream",
          "name": "stdout",
          "text": [
            "4\n",
            "1 4 7 9\n",
            "3\n",
            "1 4 9 "
          ]
        }
      ]
    },
    {
      "cell_type": "code",
      "source": [
        "for i in range(-6, -10, -1):\n",
        "     print(i, end =\" \")\n"
      ],
      "metadata": {
        "colab": {
          "base_uri": "https://localhost:8080/"
        },
        "id": "DU0bpMOuA-x5",
        "outputId": "f0d81c57-aa84-4a45-8e40-e69e653bd356"
      },
      "execution_count": null,
      "outputs": [
        {
          "output_type": "stream",
          "name": "stdout",
          "text": [
            "-6 -7 -8 -9 "
          ]
        }
      ]
    },
    {
      "cell_type": "code",
      "source": [
        "#Problem Description\n",
        "#Write a program to print the input array A of size N in reverse order where you have to take integer N and further N elements as input from user.\n",
        "\n",
        "# Read input in a single line\n",
        "data = list(map(int, input().split()))\n",
        "\n",
        "# First value is N\n",
        "N = data[0]\n",
        "\n",
        "# Next N values are the array\n",
        "A = data[1:N+1]\n",
        "\n",
        "# Print in reverse order with trailing space -- Using FOR\n",
        "for num in reversed(A):\n",
        "    print(num, end=\" \")\n",
        "\n",
        "# -- Without using FOR --\n",
        "#print(*A[::-1], end=\" \")"
      ],
      "metadata": {
        "colab": {
          "base_uri": "https://localhost:8080/"
        },
        "id": "gjimo-ysCiTT",
        "outputId": "bd872366-9774-432d-cc1b-bc2dfc66e993"
      },
      "execution_count": null,
      "outputs": [
        {
          "output_type": "stream",
          "name": "stdout",
          "text": [
            "1 2 3 4 5\n",
            "2 "
          ]
        }
      ]
    },
    {
      "cell_type": "code",
      "source": [
        "x = [1, 2]\n",
        "y = [2, 3]\n",
        "\n",
        "for i in x:\n",
        "    for j in y:\n",
        "        print(i, j, end= \" \")"
      ],
      "metadata": {
        "colab": {
          "base_uri": "https://localhost:8080/"
        },
        "id": "GXuGprlpHvLF",
        "outputId": "6bc7eb81-372a-47e2-95f0-70ea370907d0"
      },
      "execution_count": null,
      "outputs": [
        {
          "output_type": "stream",
          "name": "stdout",
          "text": [
            "1 2 1 3 2 2 2 3 "
          ]
        }
      ]
    },
    {
      "cell_type": "code",
      "source": [
        "\"\"\"\n",
        "Problem Description\n",
        "Write a program for a given integer x and a list ls to return the first multiple of x that occurs in the list,\n",
        "and if there isn’t any multiple of x in the list then return -1.\n",
        "Note: The list with elements and the integer x is already passed as an argument to the function. User don't need to take any input. Just perform the task on the passed arguments and return the required result.\n",
        "\"\"\"\n",
        "def first_multiple(ls,x):\n",
        "    ans = -1\n",
        "    ''' input:ls-List of elements and x-indicates the integer\n",
        "         output:Return ans from the list that is divisible by x'''\n",
        "\n",
        "    # YOUR CODE GOES HERE\n",
        "    for num in ls:\n",
        "        if num % x == 0:   # check divisibility\n",
        "            ans = num\n",
        "            break\n",
        "\n",
        "    return ans"
      ],
      "metadata": {
        "id": "o_NnzC-jNS75"
      },
      "execution_count": null,
      "outputs": []
    },
    {
      "cell_type": "code",
      "source": [
        "def calculate_sum(input_list):\n",
        "  # First element is size, rest are list values\n",
        "  n = input_list[0]\n",
        "  numbers = input_list[1:]\n",
        "\n",
        "  # Optional check\n",
        "  if len(numbers) != n:\n",
        "        raise ValueError(\"List size does not match the given number N\")\n",
        "\n",
        "  calculated_sum = sum(numbers)\n",
        "  return calculated_sum\n",
        "\n",
        "#pass the input\n",
        "result = calculate_sum([5,1,2,3,4,5])\n",
        "print(result)"
      ],
      "metadata": {
        "colab": {
          "base_uri": "https://localhost:8080/"
        },
        "id": "8dcppRZi2D6S",
        "outputId": "83879c34-6710-47e0-b13a-eca2d0bba638"
      },
      "execution_count": null,
      "outputs": [
        {
          "output_type": "stream",
          "name": "stdout",
          "text": [
            "15\n"
          ]
        }
      ]
    },
    {
      "cell_type": "code",
      "source": [
        "#A = list[1,2,2,4,5]\n",
        "#print(list.max)\n",
        "#use built-in maximum function\n",
        "#print(max(A))\n",
        "\n",
        "def find_max(input_list):\n",
        "    print(max(input_list))\n",
        "\n",
        "find_max([1,6,72,5,7,8])"
      ],
      "metadata": {
        "colab": {
          "base_uri": "https://localhost:8080/"
        },
        "id": "hHMS-rlS7IoK",
        "outputId": "6cf2387c-2efe-4c74-bd0d-fc39bdce6544"
      },
      "execution_count": null,
      "outputs": [
        {
          "output_type": "stream",
          "name": "stdout",
          "text": [
            "72\n"
          ]
        }
      ]
    },
    {
      "cell_type": "code",
      "source": [
        "\"\"\"\n",
        "Problem Description\n",
        "Write a program to find the difference between the sum of all even elements and the sum of all odd elements from the given array, A.\n",
        "Note: The array of elements will be passed as an argument to the function. You don't need to take any input of array.\n",
        "\"\"\"\n",
        "A = list(map(int,input(\"\").split()))\n",
        "def even_odd(A):\n",
        "  sum_even = 0\n",
        "  sum_odd = 0\n",
        "  diff = 0\n",
        "  for i in A:\n",
        "    if i%2 == 0:\n",
        "      sum_even += i\n",
        "    else:\n",
        "      sum_odd += i\n",
        "  diff = sum_even - sum_odd\n",
        "  print(diff)\n",
        "\n",
        "  return diff\n",
        "\n",
        "if __name__ == '__main__':\n",
        "  even_odd(A)"
      ],
      "metadata": {
        "colab": {
          "base_uri": "https://localhost:8080/"
        },
        "id": "ccqqiPPYSE_E",
        "outputId": "b29ef965-7571-4f81-bd71-7fe3ec684867"
      },
      "execution_count": null,
      "outputs": [
        {
          "output_type": "stream",
          "name": "stdout",
          "text": [
            "1 2 3 4 5\n",
            "-3\n"
          ]
        }
      ]
    },
    {
      "cell_type": "code",
      "source": [
        "Wrong loop logic\n",
        "You wrote:\n",
        "\n",
        "for i in lst:\n",
        "    result = lst[i] * lst[i+1]\n",
        "\n",
        "\n",
        "Here, i is already the element, not an index.\n",
        "Example: if lst = [7, 9, 2, 51], then i will take values 7, 9, 2, 51, not 0,1,2,....\n",
        "\n",
        "Also, you’re trying lst[i+1], which will give an IndexError when i is the last element.\n",
        "\n",
        "✅ Instead, you just need to multiply i directly with result.\n",
        "\n",
        "✅ Corrected Code\n",
        "def product(lst):\n",
        "    ''' input: lst - List of elements in integer format\n",
        "        output: Return the product as result. '''\n",
        "\n",
        "    result = 1\n",
        "    for i in lst:\n",
        "        result *= i   # multiply each element with result\n",
        "\n",
        "    return result\n"
      ],
      "metadata": {
        "id": "Fr9vyd0G2Ksi"
      },
      "execution_count": null,
      "outputs": []
    },
    {
      "cell_type": "code",
      "source": [
        "\n",
        "\n",
        "def divisible(A):\n",
        "    # YOUR CODE GOES HERE\n",
        "    for i in A:\n",
        "        if (i % 5) and (i % 7) == 0:\n",
        "            print (i)\n",
        "            break\n",
        "    return none"
      ],
      "metadata": {
        "id": "o0cxCpM34-HF"
      },
      "execution_count": null,
      "outputs": []
    },
    {
      "cell_type": "code",
      "source": [
        "while True:\n",
        "        item = input()\n",
        "        if item == \"end\":   # stop taking input if \"end\" is entered\n",
        "            break\n",
        "        shoplist.append(item)\n",
        "\n",
        "print(shoplist)\n"
      ],
      "metadata": {
        "colab": {
          "base_uri": "https://localhost:8080/",
          "height": 228
        },
        "id": "z5CYtS6L_4OX",
        "outputId": "12ff3130-7c58-433f-9bcf-922b6d70157f"
      },
      "execution_count": 20,
      "outputs": [
        {
          "name": "stdout",
          "output_type": "stream",
          "text": [
            "1 3 4 6 8\n"
          ]
        },
        {
          "output_type": "error",
          "ename": "NameError",
          "evalue": "name 'shoplist' is not defined",
          "traceback": [
            "\u001b[0;31m---------------------------------------------------------------------------\u001b[0m",
            "\u001b[0;31mNameError\u001b[0m                                 Traceback (most recent call last)",
            "\u001b[0;32m/tmp/ipython-input-639067301.py\u001b[0m in \u001b[0;36m<cell line: 0>\u001b[0;34m()\u001b[0m\n\u001b[1;32m      3\u001b[0m         \u001b[0;32mif\u001b[0m \u001b[0mitem\u001b[0m \u001b[0;34m==\u001b[0m \u001b[0;34m\"end\"\u001b[0m\u001b[0;34m:\u001b[0m   \u001b[0;31m# stop taking input if \"end\" is entered\u001b[0m\u001b[0;34m\u001b[0m\u001b[0;34m\u001b[0m\u001b[0m\n\u001b[1;32m      4\u001b[0m             \u001b[0;32mbreak\u001b[0m\u001b[0;34m\u001b[0m\u001b[0;34m\u001b[0m\u001b[0m\n\u001b[0;32m----> 5\u001b[0;31m         \u001b[0mshoplist\u001b[0m\u001b[0;34m.\u001b[0m\u001b[0mappend\u001b[0m\u001b[0;34m(\u001b[0m\u001b[0mitem\u001b[0m\u001b[0;34m)\u001b[0m\u001b[0;34m\u001b[0m\u001b[0;34m\u001b[0m\u001b[0m\n\u001b[0m\u001b[1;32m      6\u001b[0m \u001b[0;34m\u001b[0m\u001b[0m\n\u001b[1;32m      7\u001b[0m \u001b[0mprint\u001b[0m\u001b[0;34m(\u001b[0m\u001b[0mshoplist\u001b[0m\u001b[0;34m)\u001b[0m\u001b[0;34m\u001b[0m\u001b[0;34m\u001b[0m\u001b[0m\n",
            "\u001b[0;31mNameError\u001b[0m: name 'shoplist' is not defined"
          ]
        }
      ]
    },
    {
      "cell_type": "code",
      "source": [],
      "metadata": {
        "id": "P-f-hKla5Awj"
      },
      "execution_count": null,
      "outputs": []
    }
  ]
}