{
  "nbformat": 4,
  "nbformat_minor": 0,
  "metadata": {
    "colab": {
      "provenance": [],
      "authorship_tag": "ABX9TyNfrWSHNDSqetScR7IE5/4J",
      "include_colab_link": true
    },
    "kernelspec": {
      "name": "python3",
      "display_name": "Python 3"
    },
    "language_info": {
      "name": "python"
    }
  },
  "cells": [
    {
      "cell_type": "markdown",
      "metadata": {
        "id": "view-in-github",
        "colab_type": "text"
      },
      "source": [
        "<a href=\"https://colab.research.google.com/github/sriman-colab/sriman-repository/blob/main/5day_Python.ipynb\" target=\"_parent\"><img src=\"https://colab.research.google.com/assets/colab-badge.svg\" alt=\"Open In Colab\"/></a>"
      ]
    },
    {
      "cell_type": "code",
      "execution_count": 8,
      "metadata": {
        "colab": {
          "base_uri": "https://localhost:8080/"
        },
        "id": "vJmj5715pM7H",
        "outputId": "56e820ca-6146-45a4-c35f-0ed115853924"
      },
      "outputs": [
        {
          "output_type": "stream",
          "name": "stdout",
          "text": [
            "6\n",
            "NO\n",
            "NO\n",
            "YES\n"
          ]
        }
      ],
      "source": [
        "\"\"\"\n",
        "#Quiz 1\n",
        "count = 0\n",
        "while(count <10): # 0 1 2 3 4\n",
        "  print(10,end =' ') # 10 10 10 10\n",
        "  count += 1 #1 2 3 4\n",
        "__________\n",
        "Quiz 2#\n",
        "count = 1\n",
        "while(count <=5): #1 2\n",
        "  if(count ==2): #1==2 f 2==2 t\n",
        "    break #exit the loop\n",
        "  print(count,end =' ') #1\n",
        "  count +=1 #2\n",
        "_____________\n",
        "Problem Description:\n",
        "Take an integer A as input, you have to tell whether it is a prime number or not.\n",
        "A prime number is a natural number greater than 1 which is divisible only by 1 and itself.\n",
        "def main():\n",
        "    # YOUR CODE GOES HERE\n",
        "    # Please take input and print output to standard input/output (stdin/stdout)\n",
        "    # E.g. 'input()/raw_input()' for input & 'print' for output\n",
        "    N = int(input())\n",
        "    F = 2\n",
        "    while(F<N):\n",
        "        if(N%F==0):\n",
        "            print(\"NO\")\n",
        "        F+=1\n",
        "    else:\n",
        "        print(\"YES\")\n",
        "    return 0\n",
        "\n",
        "if __name__ == '__main__':\n",
        "    main()\n",
        "\"\"\"\n"
      ]
    },
    {
      "cell_type": "code",
      "source": [
        "\n"
      ],
      "metadata": {
        "id": "v2vNfH2Ys7PE"
      },
      "execution_count": null,
      "outputs": []
    }
  ]
}