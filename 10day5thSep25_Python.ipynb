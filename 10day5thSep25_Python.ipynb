{
  "nbformat": 4,
  "nbformat_minor": 0,
  "metadata": {
    "colab": {
      "provenance": [],
      "authorship_tag": "ABX9TyPSNJpf/C7QvivCalv05Io0",
      "include_colab_link": true
    },
    "kernelspec": {
      "name": "python3",
      "display_name": "Python 3"
    },
    "language_info": {
      "name": "python"
    }
  },
  "cells": [
    {
      "cell_type": "markdown",
      "metadata": {
        "id": "view-in-github",
        "colab_type": "text"
      },
      "source": [
        "<a href=\"https://colab.research.google.com/github/sriman-colab/sriman-repository/blob/main/10day5thSep25_Python.ipynb\" target=\"_parent\"><img src=\"https://colab.research.google.com/assets/colab-badge.svg\" alt=\"Open In Colab\"/></a>"
      ]
    },
    {
      "cell_type": "code",
      "execution_count": null,
      "metadata": {
        "id": "WZGt40VflyVp"
      },
      "outputs": [],
      "source": [
        "\"\"\"\n",
        "Problem Description\n",
        "You are given a character string A and two integer ASCII codes B and C.\n",
        "You have to find and replace all the occurrences of the character having ASCII code equal to B with character having ASCII code equal to C and return the resultant string.\n",
        "\n",
        "Input 1:\n",
        " A = \"aabbccbb\"\n",
        " B = 98\n",
        " C = 100\n",
        "\n",
        "Input 2:\n",
        " A = \"abc\"\n",
        " B = 100\n",
        " C = 97\n",
        "\n",
        "Example Output\n",
        "Output 1:\n",
        " aaddccdd\n",
        "Output 2:\n",
        " abc\n",
        "\"\"\"\n",
        "class Solution:\n",
        "    # @param A : string\n",
        "    # @param B : integer\n",
        "    # @param C : integer\n",
        "    # @return a strings\n",
        "    def solve(self, A, B, C):\n",
        "        # Convert ASCII codes to characters\n",
        "        old_char = chr(B)\n",
        "        new_char = chr(C)\n",
        "\n",
        "        # Replace all occurrences\n",
        "        result = A.replace(old_char, new_char)\n",
        "        print(result)\n",
        "\n",
        "        return result\n",
        "\n"
      ]
    },
    {
      "cell_type": "code",
      "source": [
        "\n",
        "import re\n",
        "\n",
        "def extract_error_logs(logs):\n",
        "    pass\n",
        "\n",
        "#def filter_error_logs(logs):\n",
        "    # Regex to match any line that contains 'ERROR' as a separate word\n",
        "    pattern = re.compile(r\"\\bERROR\\b\")\n",
        "\n",
        "    error_logs = [log for log in logs if pattern.search(log)]\n",
        "    return error_logs\n",
        "\n",
        "\n",
        "# Example usage\n",
        "logs = [\n",
        "    \"2024-07-18 10:00:01 INFO Server started\",\n",
        "    \"2024-07-18 10:01:17 ERROR Failed to connect to database\",\n",
        "    \"2024-07-18 10:02:45 WARNING High memory usage\",\n",
        "    \"2024-07-18 10:04:10 ERROR Disk full\",\n",
        "    \"2024-07-18 10:06:30 INFO Backup complete\"\n",
        "]\n",
        "\n",
        "result = extract_error_logs(logs)\n",
        "\n",
        "for r in result:\n",
        "    print(r)\n",
        "\n",
        "\n"
      ],
      "metadata": {
        "colab": {
          "base_uri": "https://localhost:8080/"
        },
        "id": "rpnegu_cA8VW",
        "outputId": "2c971332-c849-483a-ebd2-28485f603880"
      },
      "execution_count": null,
      "outputs": [
        {
          "output_type": "stream",
          "name": "stdout",
          "text": [
            "2024-07-18 10:01:17 ERROR Failed to connect to database\n",
            "2024-07-18 10:04:10 ERROR Disk full\n"
          ]
        }
      ]
    },
    {
      "cell_type": "code",
      "source": [
        "def find_longest_line(lines):\n",
        "    if not lines:  # handle empty list\n",
        "        return \"\"\n",
        "\n",
        "    # max() with key=len finds the longest string\n",
        "    longest = max(lines, key=len)\n",
        "    return longest\n",
        "\n",
        "\n",
        "# Example usage\n",
        "lines = [\n",
        "    \"DevOps is awesome.\",\n",
        "    \"Error: Disk not found.\",\n",
        "    \"Server started successfully at 10:05 AM.\",\n",
        "    \"OK\"\n",
        "]\n",
        "\n",
        "print(find_longest_line(lines))\n"
      ],
      "metadata": {
        "colab": {
          "base_uri": "https://localhost:8080/"
        },
        "id": "-7gDIjlED7xQ",
        "outputId": "5e660d8b-7f07-4eaf-dd46-d84b8f0248f6"
      },
      "execution_count": null,
      "outputs": [
        {
          "output_type": "stream",
          "name": "stdout",
          "text": [
            "Server started successfully at 10:05 AM.\n"
          ]
        }
      ]
    },
    {
      "cell_type": "code",
      "source": [
        "def odd_even_split_tuple(tup):\n",
        "    ''' input:tup-indicates the tuple\n",
        "         output:print two tuples one for even indexed and odd indexed in the given output format'''\n",
        "\n",
        "    # YOUR CODE GOES HERE\n",
        "    odd = tup[0::2]\n",
        "    even = tup[1::2]\n",
        "    print(\"Odd:\", odd)\n",
        "    print(\"Even:\", even)"
      ],
      "metadata": {
        "id": "NtAJPLBbGKeK"
      },
      "execution_count": null,
      "outputs": []
    },
    {
      "cell_type": "code",
      "source": [
        "#You need to return the leftmost index of the character whose ASCII code = B, or -1 if not found.\n",
        "\n",
        "#Here’s the corrected code using the given class Solution format:\n",
        "\n",
        "class Solution:\n",
        "    # @param A : string\n",
        "    # @param B : integer\n",
        "    # @return an integer\n",
        "    def solve(self, A, B):\n",
        "        target_char = chr(B)   # convert ASCII code to character\n",
        "        for i, ch in enumerate(A):\n",
        "            if ch == target_char:\n",
        "                return i\n",
        "        return -1\n",
        "\"\"\"\n",
        "✅ Explanation:\n",
        "\n",
        "chr(B) → converts the ASCII code B into its character form.\n",
        "Example: chr(98) = 'b'.\n",
        "\n",
        "Loop through the string with enumerate(A) to get both index i and character ch.\n",
        "\n",
        "If ch == target_char, return i immediately (leftmost occurrence).\n",
        "\n",
        "If the loop finishes with no match, return -1.\n",
        "\"\"\""
      ],
      "metadata": {
        "colab": {
          "base_uri": "https://localhost:8080/",
          "height": 70
        },
        "id": "JlfsQqRwKiw_",
        "outputId": "bc64cc97-e304-4237-fb48-c1c7f280adb8"
      },
      "execution_count": null,
      "outputs": [
        {
          "output_type": "execute_result",
          "data": {
            "text/plain": [
              "\"\\n✅ Explanation:\\n\\nchr(B) → converts the ASCII code B into its character form.\\nExample: chr(98) = 'b'.\\n\\nLoop through the string with enumerate(A) to get both index i and character ch.\\n\\nIf ch == target_char, return i immediately (leftmost occurrence).\\n\\nIf the loop finishes with no match, return -1.\\n\""
            ],
            "application/vnd.google.colaboratory.intrinsic+json": {
              "type": "string"
            }
          },
          "metadata": {},
          "execution_count": 5
        }
      ]
    },
    {
      "cell_type": "code",
      "source": [
        "#Problem Description You are given lowercase string (A) and you have to tell the count of vowels and consonants in it\n",
        "class Solution:\n",
        "    # @param A : string\n",
        "    # @return a list of integers\n",
        "    def solve(self, A):\n",
        "        vowels = \"aeiou\"\n",
        "        vcount = 0\n",
        "        ccount = 0\n",
        "        for ch in A:\n",
        "            if ch in vowels:\n",
        "                vcount += 1\n",
        "            else:\n",
        "                ccount += 1\n",
        "        return [vcount, ccount]\n",
        "🔎 Explanation\n",
        "We initialize two counters:\n",
        "vcount → number of vowels\n",
        "ccount → number of consonants\n",
        "\n",
        "Loop through each character in the string.\n",
        "\n",
        "If character is in \"aeiou\", increment vowel count. Otherwise, increment consonant count.\n",
        "\n",
        "Finally return [vcount, ccount]."
      ],
      "metadata": {
        "colab": {
          "base_uri": "https://localhost:8080/",
          "height": 106
        },
        "id": "rAynR_MUKzgs",
        "outputId": "a9641c29-95cf-42e9-a614-942d3097f953"
      },
      "execution_count": null,
      "outputs": [
        {
          "output_type": "error",
          "ename": "SyntaxError",
          "evalue": "invalid character '🔎' (U+1F50E) (ipython-input-2337761287.py, line 14)",
          "traceback": [
            "\u001b[0;36m  File \u001b[0;32m\"/tmp/ipython-input-2337761287.py\"\u001b[0;36m, line \u001b[0;32m14\u001b[0m\n\u001b[0;31m    🔎 Explanation\u001b[0m\n\u001b[0m    ^\u001b[0m\n\u001b[0;31mSyntaxError\u001b[0m\u001b[0;31m:\u001b[0m invalid character '🔎' (U+1F50E)\n"
          ]
        }
      ]
    },
    {
      "cell_type": "code",
      "source": [
        "Problem Description:\n",
        "\n",
        "Write a program to return a single string from two given strings, separated by a space. Swap the first two characters of the first string (s1) with the first two characters of the second one (s2).\n",
        "\n",
        "Input Format:\n",
        "\n",
        "The first line of input contains an integer t denoting the number of test cases.\n",
        "The next 2t lines contain strings s1 and s2.\n",
        "The two arguments to the function are the strings s1 and s2.\n",
        "\n",
        "\n",
        "def swap(s1, s2):\n",
        "    str=None\n",
        "    '''Input: s1,s2 two strings takes the string as input\n",
        "       Output: str return the resultant string'''\n",
        "    # YOUR CODE GOES HERE\n",
        "    new_s1 = s2[:2] + s1[2:]   # take first 2 chars from s2, rest from s1\n",
        "    new_s2 = s1[:2] + s2[2:]   # take first 2 chars from s1, rest from s2\n",
        "\n",
        "    str = new_s1 + \" \" + new_s2\n",
        "    return str\n"
      ],
      "metadata": {
        "id": "z3nd7UVm5wVN"
      },
      "execution_count": null,
      "outputs": []
    },
    {
      "cell_type": "code",
      "source": [
        "Problem Description:\n",
        "\n",
        "Write a program to check whether the given string is a palindrome or not. Return True if it is palindrome else return False.\n",
        "\n",
        "Note: A string is said to be a palindrome if the reverse of the string is the same as the string itself.\n",
        "\n",
        "\n",
        "def isPalindrome(s):\n",
        "    '''Input: s takes the string as input\n",
        "       Output:return the True or False'''\n",
        "    # YOUR CODE GOES HERE\n",
        "    if s == s[::-1]:\n",
        "        return(\"True\")\n",
        "    else:\n",
        "        return(\"False\")\n"
      ],
      "metadata": {
        "id": "2rAm87tH7J5x"
      },
      "execution_count": null,
      "outputs": []
    },
    {
      "cell_type": "code",
      "source": [
        "Problem Description:\n",
        "\n",
        "Write a program that takes a sentence as a parameter and returns the number of alphabets and digits separately.\n",
        "\n",
        "Input Format:\n",
        "\n",
        "First line will have the number of test cases. For each testcase there will be one line of input consisting\n",
        "of string/sentence in string format.\n",
        "Output Format:\n",
        "\n",
        "Count of alphabets and digits in the given string.\n",
        "Sample Input:\n",
        "\n",
        "1\n",
        "John.Smith1990@gmail.com\n",
        "Sample Output:\n",
        "\n",
        "Number of alphabets:  17\n",
        "Number of Digits:  4\n",
        "\n",
        "\n",
        "def alphandig_count(s):\n",
        "    '''Input: s takes the string as input\n",
        "       Output: return count of alphabets and digits'''\n",
        "\n",
        "    count_digit = 0\n",
        "    count_alpha = 0\n",
        "\n",
        "    # YOUR CODE GOES HERE\n",
        "    count_alpha = sum(1 for ch in s if ch.isalpha())\n",
        "    count_digit = sum(1 for ch in s if ch.isnumeric())\n",
        "    return count_alpha, count_digit\n"
      ],
      "metadata": {
        "colab": {
          "base_uri": "https://localhost:8080/",
          "height": 106
        },
        "id": "1C_2QzTF-qVB",
        "outputId": "1dcbd218-7b8c-4989-9261-587dccf15e15"
      },
      "execution_count": 1,
      "outputs": [
        {
          "output_type": "error",
          "ename": "SyntaxError",
          "evalue": "invalid syntax (ipython-input-3804377828.py, line 1)",
          "traceback": [
            "\u001b[0;36m  File \u001b[0;32m\"/tmp/ipython-input-3804377828.py\"\u001b[0;36m, line \u001b[0;32m1\u001b[0m\n\u001b[0;31m    Problem Description:\u001b[0m\n\u001b[0m            ^\u001b[0m\n\u001b[0;31mSyntaxError\u001b[0m\u001b[0;31m:\u001b[0m invalid syntax\n"
          ]
        }
      ]
    },
    {
      "cell_type": "code",
      "source": [],
      "metadata": {
        "id": "dm3NqJrb-q6l"
      },
      "execution_count": 1,
      "outputs": []
    }
  ]
}