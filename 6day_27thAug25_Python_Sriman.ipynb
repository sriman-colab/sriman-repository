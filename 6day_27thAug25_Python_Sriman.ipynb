{
  "nbformat": 4,
  "nbformat_minor": 0,
  "metadata": {
    "colab": {
      "provenance": [],
      "authorship_tag": "ABX9TyMgPY45jFofHh0vWFh907UO",
      "include_colab_link": true
    },
    "kernelspec": {
      "name": "python3",
      "display_name": "Python 3"
    },
    "language_info": {
      "name": "python"
    }
  },
  "cells": [
    {
      "cell_type": "markdown",
      "metadata": {
        "id": "view-in-github",
        "colab_type": "text"
      },
      "source": [
        "<a href=\"https://colab.research.google.com/github/sriman-colab/sriman-repository/blob/main/6day_27thAug25_Python_Sriman.ipynb\" target=\"_parent\"><img src=\"https://colab.research.google.com/assets/colab-badge.svg\" alt=\"Open In Colab\"/></a>"
      ]
    },
    {
      "cell_type": "code",
      "source": [
        "def celsius_farhen(Celsius):\n",
        "    # YOUR CODE GOES HERE\n",
        "    Far = (9/5 * Celsius) + 32\n",
        "    print(round(Far,2))\n",
        "\n",
        "    return round(Far,2) # Returning Fahrenheit value\n",
        "\n",
        "if __name__ == '__main__':\n",
        "    # Example usage: Call the function with a Celsius value\n",
        "    celsius_value = 33.534 # Example Celsius value\n",
        "    fahrenheit_value = celsius_farhen(celsius_value)\n",
        "    print(f\"{celsius_value} Celsius is equal to {fahrenheit_value} Fahrenheit\")"
      ],
      "metadata": {
        "colab": {
          "base_uri": "https://localhost:8080/"
        },
        "id": "JB2FvDSE7iKO",
        "outputId": "8d136851-7cec-452a-c579-4b53db8cc4ce"
      },
      "execution_count": 12,
      "outputs": [
        {
          "output_type": "stream",
          "name": "stdout",
          "text": [
            "92.36\n",
            "33.534 Celsius is equal to 92.36 Fahrenheit\n"
          ]
        }
      ]
    },
    {
      "cell_type": "code",
      "source": [],
      "metadata": {
        "id": "Go_GWCwUMzqJ"
      },
      "execution_count": null,
      "outputs": []
    },
    {
      "cell_type": "code",
      "source": [
        "#Note 2: You need not take input in this problem, you need only to implement the function provided._\n",
        "def simple_int(time: int,pa: float,ir: float):\n",
        "    ''' time, pa, ir represents the time in number of days, principal amount and rate of interest\n",
        "        Return the simple interest'''\n",
        "    ans = 0\n",
        "    # YOUR CODE GOES HERE\n",
        "    ans = pa * (1 + (time/365) * (ir /100) )\n",
        "\n",
        "\n",
        "    return round(ans,2)\n"
      ],
      "metadata": {
        "id": "DytOd3MJ3s-q"
      },
      "execution_count": 1,
      "outputs": []
    },
    {
      "cell_type": "code",
      "source": [
        "\"\"\"\n",
        "Problem Description:\n",
        "Write a program to print all Natural numbers from 1 to N and from N to 1 inclusive, where N is given as an argument.\n",
        "Note1: First print from 1 to N then in new line print again from N to 1\n",
        "Note2: You need not take input in this problem, you need to only implement the function provided.\n",
        "Note3: There is 1 line gap between two output lines and a space between numbers in same line.\n",
        "\"\"\"\n",
        "\n"
      ],
      "metadata": {
        "id": "RsIniMGc5UE9"
      },
      "execution_count": null,
      "outputs": []
    }
  ]
}