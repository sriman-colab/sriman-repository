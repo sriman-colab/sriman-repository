{
  "nbformat": 4,
  "nbformat_minor": 0,
  "metadata": {
    "colab": {
      "provenance": [],
      "include_colab_link": true
    },
    "kernelspec": {
      "name": "python3",
      "display_name": "Python 3"
    },
    "language_info": {
      "name": "python"
    }
  },
  "cells": [
    {
      "cell_type": "markdown",
      "metadata": {
        "id": "view-in-github",
        "colab_type": "text"
      },
      "source": [
        "<a href=\"https://colab.research.google.com/github/sriman-colab/sriman-repository/blob/main/3_Operators_and_Control_Statements.ipynb\" target=\"_parent\"><img src=\"https://colab.research.google.com/assets/colab-badge.svg\" alt=\"Open In Colab\"/></a>"
      ]
    },
    {
      "cell_type": "markdown",
      "source": [
        "Hi everyone,\n",
        "Starting at 9:05 pm\n",
        "Enjoy the song :)\n",
        "Any song suggestions?"
      ],
      "metadata": {
        "id": "aVtGW6aqHpCu"
      }
    },
    {
      "cell_type": "markdown",
      "source": [
        " Type Casting"
      ],
      "metadata": {
        "id": "6QZ0UrTGMlol"
      }
    },
    {
      "cell_type": "code",
      "source": [
        "a=123\n",
        "print(str(a)) #'123'\n",
        "\n",
        "b=1.3\n",
        "print(str(b)) #'1.3'\n",
        "\n",
        "c=True\n",
        "print(str(c)) #'True'"
      ],
      "metadata": {
        "colab": {
          "base_uri": "https://localhost:8080/"
        },
        "id": "C-phkFm8IIiE",
        "outputId": "acdace75-8d69-4dd7-db9f-d6c49bac8705"
      },
      "execution_count": null,
      "outputs": [
        {
          "output_type": "stream",
          "name": "stdout",
          "text": [
            "123\n",
            "1.3\n",
            "True\n"
          ]
        }
      ]
    },
    {
      "cell_type": "markdown",
      "source": [
        "Converting To Integer using int()"
      ],
      "metadata": {
        "id": "HIx121o2SI6d"
      }
    },
    {
      "cell_type": "code",
      "source": [
        "'''\n",
        "A valid digit only string to an integer\n",
        "A float by truncating the decimal point\n",
        "Boolean True -> 1, False -> 0\n",
        "'''"
      ],
      "metadata": {
        "id": "yLNUZKczIegm"
      },
      "execution_count": null,
      "outputs": []
    },
    {
      "cell_type": "code",
      "source": [
        "a='124'\n",
        "print(int(a)) #124\n",
        "print(int(\"one\")) #invalid"
      ],
      "metadata": {
        "colab": {
          "base_uri": "https://localhost:8080/",
          "height": 228
        },
        "id": "5968-ruHI7up",
        "outputId": "9a067f8a-6d96-4781-d244-0881d2a80139"
      },
      "execution_count": null,
      "outputs": [
        {
          "output_type": "stream",
          "name": "stdout",
          "text": [
            "124\n"
          ]
        },
        {
          "output_type": "error",
          "ename": "ValueError",
          "evalue": "invalid literal for int() with base 10: 'one'",
          "traceback": [
            "\u001b[0;31m---------------------------------------------------------------------------\u001b[0m",
            "\u001b[0;31mValueError\u001b[0m                                Traceback (most recent call last)",
            "\u001b[0;32m/tmp/ipython-input-2235021291.py\u001b[0m in \u001b[0;36m<cell line: 0>\u001b[0;34m()\u001b[0m\n\u001b[1;32m      1\u001b[0m \u001b[0ma\u001b[0m\u001b[0;34m=\u001b[0m\u001b[0;34m'124'\u001b[0m\u001b[0;34m\u001b[0m\u001b[0;34m\u001b[0m\u001b[0m\n\u001b[1;32m      2\u001b[0m \u001b[0mprint\u001b[0m\u001b[0;34m(\u001b[0m\u001b[0mint\u001b[0m\u001b[0;34m(\u001b[0m\u001b[0ma\u001b[0m\u001b[0;34m)\u001b[0m\u001b[0;34m)\u001b[0m \u001b[0;31m#124\u001b[0m\u001b[0;34m\u001b[0m\u001b[0;34m\u001b[0m\u001b[0m\n\u001b[0;32m----> 3\u001b[0;31m \u001b[0mprint\u001b[0m\u001b[0;34m(\u001b[0m\u001b[0mint\u001b[0m\u001b[0;34m(\u001b[0m\u001b[0;34m\"one\"\u001b[0m\u001b[0;34m)\u001b[0m\u001b[0;34m)\u001b[0m\u001b[0;34m\u001b[0m\u001b[0;34m\u001b[0m\u001b[0m\n\u001b[0m",
            "\u001b[0;31mValueError\u001b[0m: invalid literal for int() with base 10: 'one'"
          ]
        }
      ]
    },
    {
      "cell_type": "code",
      "source": [
        "b=3.756 #float\n",
        "print(int(b)) #3\n",
        "\n",
        "c=True\n",
        "print(int(c))\n",
        "print(int(False))"
      ],
      "metadata": {
        "colab": {
          "base_uri": "https://localhost:8080/"
        },
        "id": "xn9Prc5dJJNs",
        "outputId": "5df67bb9-ab4b-44ac-ab74-52ad8aa90481"
      },
      "execution_count": null,
      "outputs": [
        {
          "output_type": "stream",
          "name": "stdout",
          "text": [
            "3\n",
            "1\n",
            "0\n"
          ]
        }
      ]
    },
    {
      "cell_type": "markdown",
      "source": [
        "Converting To Float using float()"
      ],
      "metadata": {
        "id": "q-yXT3yTSh9D"
      }
    },
    {
      "cell_type": "code",
      "source": [
        "'''\n",
        "convert numeric string to float\n",
        "integer to float\n",
        "True -> 1.0 , False -> 0.0\n",
        "'''"
      ],
      "metadata": {
        "id": "mRSn0K-HJvdl"
      },
      "execution_count": null,
      "outputs": []
    },
    {
      "cell_type": "code",
      "source": [
        "a=\"12.5\"\n",
        "print(float(a)) #12.5\n",
        "b=10\n",
        "print(float(b)) #10.0\n",
        "c=False\n",
        "print(float(c)) #0.0\n",
        "\n",
        "# \"True\" is a string and True is boolean"
      ],
      "metadata": {
        "colab": {
          "base_uri": "https://localhost:8080/"
        },
        "id": "PaibzdbJJ5Aj",
        "outputId": "df48ddef-245e-48da-f64e-8d7c35cad571"
      },
      "execution_count": null,
      "outputs": [
        {
          "output_type": "stream",
          "name": "stdout",
          "text": [
            "12.5\n",
            "10.0\n",
            "0.0\n"
          ]
        }
      ]
    },
    {
      "cell_type": "code",
      "source": [
        "print(float(\"12.4.5\"))"
      ],
      "metadata": {
        "colab": {
          "base_uri": "https://localhost:8080/",
          "height": 176
        },
        "id": "OIvNsq-AKO-0",
        "outputId": "e17d699e-c66b-4d12-be73-f81aaf53bbe8"
      },
      "execution_count": null,
      "outputs": [
        {
          "output_type": "error",
          "ename": "ValueError",
          "evalue": "could not convert string to float: '12.4.5'",
          "traceback": [
            "\u001b[0;31m---------------------------------------------------------------------------\u001b[0m",
            "\u001b[0;31mValueError\u001b[0m                                Traceback (most recent call last)",
            "\u001b[0;32m/tmp/ipython-input-2386202679.py\u001b[0m in \u001b[0;36m<cell line: 0>\u001b[0;34m()\u001b[0m\n\u001b[0;32m----> 1\u001b[0;31m \u001b[0mprint\u001b[0m\u001b[0;34m(\u001b[0m\u001b[0mfloat\u001b[0m\u001b[0;34m(\u001b[0m\u001b[0;34m\"12.4.5\"\u001b[0m\u001b[0;34m)\u001b[0m\u001b[0;34m)\u001b[0m\u001b[0;34m\u001b[0m\u001b[0;34m\u001b[0m\u001b[0m\n\u001b[0m",
            "\u001b[0;31mValueError\u001b[0m: could not convert string to float: '12.4.5'"
          ]
        }
      ]
    },
    {
      "cell_type": "markdown",
      "source": [
        "Converting To Boolean using bool()"
      ],
      "metadata": {
        "id": "mTScZ2N_SlCc"
      }
    },
    {
      "cell_type": "code",
      "source": [
        "'''\n",
        "\"\" or 0 or 0.0 -> False\n",
        "anything apart from this -> True\n",
        "'''"
      ],
      "metadata": {
        "id": "WH03EYGoLQR_"
      },
      "execution_count": null,
      "outputs": []
    },
    {
      "cell_type": "code",
      "source": [
        "print(bool(0)) #False\n",
        "print(bool(0.1)) #True\n",
        "print(bool(\"\")) #False\n",
        "print(bool(\" \")) #True\n",
        "print(bool(\"@\"))  #True\n",
        "\n",
        "# \"0\" and 0"
      ],
      "metadata": {
        "colab": {
          "base_uri": "https://localhost:8080/"
        },
        "id": "z49YBm9nL3HY",
        "outputId": "b2781b98-bca4-49f8-acb1-b003021534ce"
      },
      "execution_count": null,
      "outputs": [
        {
          "output_type": "stream",
          "name": "stdout",
          "text": [
            "False\n",
            "True\n",
            "False\n",
            "True\n",
            "True\n"
          ]
        }
      ]
    },
    {
      "cell_type": "markdown",
      "source": [
        "**Quiz 1**"
      ],
      "metadata": {
        "id": "IKZLk-qI-6tM"
      }
    },
    {
      "cell_type": "code",
      "source": [
        "print(bool(\"0\")) #String -> \"\" will give False else True"
      ],
      "metadata": {
        "id": "Polz6UhWAuT1",
        "colab": {
          "base_uri": "https://localhost:8080/"
        },
        "outputId": "8b3dcca4-bd53-4e62-aa97-b84e6876ec88"
      },
      "execution_count": null,
      "outputs": [
        {
          "output_type": "stream",
          "name": "stdout",
          "text": [
            "True\n"
          ]
        }
      ]
    },
    {
      "cell_type": "markdown",
      "source": [
        "**Quiz 2**"
      ],
      "metadata": {
        "id": "AjyX9Kxm_Fww"
      }
    },
    {
      "cell_type": "code",
      "source": [
        "print(int(15.99))"
      ],
      "metadata": {
        "id": "gRlmzUKuAvFl",
        "colab": {
          "base_uri": "https://localhost:8080/"
        },
        "outputId": "cdb89fcb-5f08-4bff-c1d4-e8a9cf249628"
      },
      "execution_count": null,
      "outputs": [
        {
          "output_type": "stream",
          "name": "stdout",
          "text": [
            "15\n"
          ]
        }
      ]
    },
    {
      "cell_type": "markdown",
      "source": [
        "**Operators and Expressions**"
      ],
      "metadata": {
        "id": "lw-zb88ktrOr"
      }
    },
    {
      "cell_type": "markdown",
      "source": [
        "**Expression** is a simple equation\n",
        "\n",
        "c=a+b\n",
        "\n",
        "-> a,b,c -> operand\n",
        "\n",
        "-> +, = -> operator\n",
        "\n",
        "\n",
        "Operators are classified into different types based on their functionalities:\n",
        "\n",
        "1. Arithmetic Operators\n",
        "2. Comparison Operators\n",
        "3. Assignment Operators\n",
        "4. Logical Operators"
      ],
      "metadata": {
        "id": "48tQm66cAz6K"
      }
    },
    {
      "cell_type": "markdown",
      "source": [
        "**Arithmetic Operators**\n"
      ],
      "metadata": {
        "id": "ELwgLw_CBXIO"
      }
    },
    {
      "cell_type": "markdown",
      "source": [
        "**1. Addition**\n",
        "(+) is used for addition, it can not work at one value, it always takes two values.\n",
        "\n",
        "a=1\n",
        "\n",
        "b=4\n",
        "\n",
        "print(a+b)"
      ],
      "metadata": {
        "id": "xT4fJLNtF8CD"
      }
    },
    {
      "cell_type": "code",
      "source": [
        "'''\n",
        "int + int -> int\n",
        "1 + 1 -> 2\n",
        "\n",
        "float + float -> float\n",
        "2.5 + 1.5 -> 4.0\n",
        "\n",
        "int + float -> float\n",
        "4 + 1.3 -> 5.3\n",
        "\n",
        "int + bool -> int\n",
        "4 + True -> 5             True is 1 and False is 0\n",
        "3 + False -> 3\n",
        "\n",
        "float + bool -> float\n",
        "3.4 + True -> 4.4\n",
        "10.0 + False -> 10.0\n",
        "\n",
        "String + String -> String\n",
        "\"abc\"+\"def\" -> \"abcdef\"\n",
        "\n",
        "String + int -> Error\n",
        "'''"
      ],
      "metadata": {
        "id": "8TKv6SAGOHZc"
      },
      "execution_count": null,
      "outputs": []
    },
    {
      "cell_type": "code",
      "source": [
        "print(\"abd\"+True)\n",
        "print('1'+1)"
      ],
      "metadata": {
        "colab": {
          "base_uri": "https://localhost:8080/",
          "height": 193
        },
        "id": "Rl8KcBe2PZ_o",
        "outputId": "f077c60f-906c-4886-8e39-e1f2f81f6f9c"
      },
      "execution_count": null,
      "outputs": [
        {
          "output_type": "error",
          "ename": "TypeError",
          "evalue": "can only concatenate str (not \"bool\") to str",
          "traceback": [
            "\u001b[0;31m---------------------------------------------------------------------------\u001b[0m",
            "\u001b[0;31mTypeError\u001b[0m                                 Traceback (most recent call last)",
            "\u001b[0;32m/tmp/ipython-input-2203729320.py\u001b[0m in \u001b[0;36m<cell line: 0>\u001b[0;34m()\u001b[0m\n\u001b[0;32m----> 1\u001b[0;31m \u001b[0mprint\u001b[0m\u001b[0;34m(\u001b[0m\u001b[0;34m\"abd\"\u001b[0m\u001b[0;34m+\u001b[0m\u001b[0;32mTrue\u001b[0m\u001b[0;34m)\u001b[0m\u001b[0;34m\u001b[0m\u001b[0;34m\u001b[0m\u001b[0m\n\u001b[0m\u001b[1;32m      2\u001b[0m \u001b[0mprint\u001b[0m\u001b[0;34m(\u001b[0m\u001b[0;34m'1'\u001b[0m\u001b[0;34m+\u001b[0m\u001b[0;36m1\u001b[0m\u001b[0;34m)\u001b[0m\u001b[0;34m\u001b[0m\u001b[0;34m\u001b[0m\u001b[0m\n",
            "\u001b[0;31mTypeError\u001b[0m: can only concatenate str (not \"bool\") to str"
          ]
        }
      ]
    },
    {
      "cell_type": "markdown",
      "source": [
        "**2. Subtraction**\n",
        "(-) is used for Subtraction.\n",
        "It can be directly used with constants.\n",
        "\n",
        "print(2-3)"
      ],
      "metadata": {
        "id": "f7dwUXr-FdIu"
      }
    },
    {
      "cell_type": "code",
      "source": [
        "print(2-3)"
      ],
      "metadata": {
        "colab": {
          "base_uri": "https://localhost:8080/"
        },
        "id": "LRUrwRPsP9VD",
        "outputId": "7e5127a2-2ac7-4fe7-d623-83d51d7d2313"
      },
      "execution_count": null,
      "outputs": [
        {
          "output_type": "stream",
          "name": "stdout",
          "text": [
            "-1\n"
          ]
        }
      ]
    },
    {
      "cell_type": "code",
      "source": [
        "'''\n",
        "string - string -> Error\n",
        "'''"
      ],
      "metadata": {
        "id": "t7lFo9lFQLW-"
      },
      "execution_count": null,
      "outputs": []
    },
    {
      "cell_type": "markdown",
      "source": [
        "3.**Multiplication**\n",
        "( * ) is used for Multiplication."
      ],
      "metadata": {
        "id": "6zUDg-QYGwrC"
      }
    },
    {
      "cell_type": "code",
      "source": [
        "print(2*3)\n",
        "print(\"Hi \" * 4) # string duplication"
      ],
      "metadata": {
        "colab": {
          "base_uri": "https://localhost:8080/"
        },
        "id": "451JDjoFQVVg",
        "outputId": "dc65c83e-e284-4f5e-a635-c89d1a24a269"
      },
      "execution_count": null,
      "outputs": [
        {
          "output_type": "stream",
          "name": "stdout",
          "text": [
            "6\n",
            "Hi Hi Hi Hi \n"
          ]
        }
      ]
    },
    {
      "cell_type": "code",
      "source": [
        "'''\n",
        "int * int -> int\n",
        "float * float -> float\n",
        "int * float -> float\n",
        "String * int -> string\n",
        "float * string -> error\n",
        "'''"
      ],
      "metadata": {
        "id": "GzSFW8yiQraS"
      },
      "execution_count": null,
      "outputs": []
    },
    {
      "cell_type": "markdown",
      "source": [
        "4. Division ( / ) is used for Division."
      ],
      "metadata": {
        "id": "3rDiEwbYTaiZ"
      }
    },
    {
      "cell_type": "code",
      "source": [
        "print(3/2)\n",
        "'''\n",
        "int/int -> float\n",
        "float/float -> float\n",
        "string is not valid\n",
        "'''"
      ],
      "metadata": {
        "colab": {
          "base_uri": "https://localhost:8080/",
          "height": 52
        },
        "id": "JqStFiFMQ3xZ",
        "outputId": "168b57bf-8f8d-45d6-ed9f-34aa41415927"
      },
      "execution_count": null,
      "outputs": [
        {
          "output_type": "stream",
          "name": "stdout",
          "text": [
            "1.5\n"
          ]
        },
        {
          "output_type": "execute_result",
          "data": {
            "text/plain": [
              "'\\nint/int -> float\\nfloat/float -> float\\nstring is not valid\\n'"
            ],
            "application/vnd.google.colaboratory.intrinsic+json": {
              "type": "string"
            }
          },
          "metadata": {},
          "execution_count": 25
        }
      ]
    },
    {
      "cell_type": "code",
      "source": [
        "print(3/True)\n",
        "print(10/3)"
      ],
      "metadata": {
        "colab": {
          "base_uri": "https://localhost:8080/"
        },
        "id": "6j3binFDRGHe",
        "outputId": "051600dc-3b4f-4c10-90b0-d1f06db240be"
      },
      "execution_count": null,
      "outputs": [
        {
          "output_type": "stream",
          "name": "stdout",
          "text": [
            "3.0\n",
            "3.3333333333333335\n"
          ]
        }
      ]
    },
    {
      "cell_type": "markdown",
      "source": [
        "5. **Modulus (mod)** - Remainder\n",
        "(%) is a Modulus (mod) operator symbol, it calculates the remainder.\n",
        "\n"
      ],
      "metadata": {
        "id": "e0Xe_bn_IpcQ"
      }
    },
    {
      "cell_type": "code",
      "source": [
        "print(5%3)\n",
        "print(546.23 % 3)"
      ],
      "metadata": {
        "colab": {
          "base_uri": "https://localhost:8080/"
        },
        "id": "Ln7nFxNfReYF",
        "outputId": "576f3c4f-7a75-43c4-8946-84de0bb46354"
      },
      "execution_count": null,
      "outputs": [
        {
          "output_type": "stream",
          "name": "stdout",
          "text": [
            "2\n",
            "0.2300000000000182\n"
          ]
        }
      ]
    },
    {
      "cell_type": "markdown",
      "source": [
        "**Floor Division -**\n",
        "( // ) is the floor division operator, it first divides the number, and it gives the previous smaller integer value of the quotient as a result."
      ],
      "metadata": {
        "id": "TGhGuGukJFEm"
      }
    },
    {
      "cell_type": "code",
      "source": [
        "print(8/3)\n",
        "print(int(8/3))\n",
        "print(8//3)\n",
        "print(-3/2)\n",
        "print(int(-3/2)) #does not work correctly\n",
        "print(-3//2)"
      ],
      "metadata": {
        "colab": {
          "base_uri": "https://localhost:8080/"
        },
        "id": "CC4Aao0USFai",
        "outputId": "58860936-5c1c-4d98-8352-7258fd25a1b4"
      },
      "execution_count": null,
      "outputs": [
        {
          "output_type": "stream",
          "name": "stdout",
          "text": [
            "2.6666666666666665\n",
            "2\n",
            "2\n",
            "-1.5\n",
            "-1\n",
            "-2\n"
          ]
        }
      ]
    },
    {
      "cell_type": "code",
      "source": [
        "import math\n",
        "print(math.floor(3.25))\n",
        "print(math.floor(-3.25))"
      ],
      "metadata": {
        "colab": {
          "base_uri": "https://localhost:8080/"
        },
        "id": "O5xcLjtfSoPa",
        "outputId": "24d215ca-35ad-4442-b4fb-1f31cd17de6e"
      },
      "execution_count": null,
      "outputs": [
        {
          "output_type": "stream",
          "name": "stdout",
          "text": [
            "3\n",
            "-4\n"
          ]
        }
      ]
    },
    {
      "cell_type": "code",
      "source": [
        "# -4 -3 -2 -1 0 1 2 3 4 5\n",
        "\n",
        "3.75 -> float\n",
        "3.6, 3.5,...3,2,1,0 -> greatest int just smaller than or equal to 3.75"
      ],
      "metadata": {
        "id": "EhWa4n-bSyHM"
      },
      "execution_count": null,
      "outputs": []
    },
    {
      "cell_type": "markdown",
      "source": [
        "**Power**\n",
        "( ** ) works as a power operator in Python."
      ],
      "metadata": {
        "id": "EMI-bVx2KH8w"
      }
    },
    {
      "cell_type": "code",
      "source": [
        "print ( 2 ** 6)\n",
        "print (4 ** 0.5) #square root"
      ],
      "metadata": {
        "colab": {
          "base_uri": "https://localhost:8080/"
        },
        "id": "l7SXJ_iFTzkO",
        "outputId": "e3a259c5-812f-4dec-871d-43457084be5d"
      },
      "execution_count": null,
      "outputs": [
        {
          "output_type": "stream",
          "name": "stdout",
          "text": [
            "64\n",
            "2.0\n"
          ]
        }
      ]
    },
    {
      "cell_type": "markdown",
      "source": [
        "**Quiz 3**"
      ],
      "metadata": {
        "id": "mH987mJAKwSR"
      }
    },
    {
      "cell_type": "code",
      "source": [
        "print(10 % 3) # 10/3 -> q -> 3 r -> 1"
      ],
      "metadata": {
        "id": "IATgLdfKK1vN",
        "colab": {
          "base_uri": "https://localhost:8080/"
        },
        "outputId": "ad28ac6c-dcae-455e-e866-a70c52f7776e"
      },
      "execution_count": null,
      "outputs": [
        {
          "output_type": "stream",
          "name": "stdout",
          "text": [
            "1\n"
          ]
        }
      ]
    },
    {
      "cell_type": "markdown",
      "source": [
        "**Quiz 4**"
      ],
      "metadata": {
        "id": "5NV0JLY_T42p"
      }
    },
    {
      "cell_type": "code",
      "source": [
        "print(2 ** 3)"
      ],
      "metadata": {
        "id": "LW7CbY2jT7Lb",
        "colab": {
          "base_uri": "https://localhost:8080/"
        },
        "outputId": "b8b091a8-7ae1-40f4-e1b2-a0d9b3b3bc51"
      },
      "execution_count": null,
      "outputs": [
        {
          "output_type": "stream",
          "name": "stdout",
          "text": [
            "8\n"
          ]
        }
      ]
    },
    {
      "cell_type": "markdown",
      "source": [
        "**Quiz 5**"
      ],
      "metadata": {
        "id": "Rhbhvvn0K2BM"
      }
    },
    {
      "cell_type": "code",
      "source": [
        "import math\n",
        "print(math.floor(2.0))"
      ],
      "metadata": {
        "id": "cV9uST-uK4ev",
        "colab": {
          "base_uri": "https://localhost:8080/"
        },
        "outputId": "493be64c-8972-44fe-b1fd-9899f1f22c14"
      },
      "execution_count": null,
      "outputs": [
        {
          "output_type": "stream",
          "name": "stdout",
          "text": [
            "2\n"
          ]
        }
      ]
    },
    {
      "cell_type": "markdown",
      "source": [
        "**Quiz 6**"
      ],
      "metadata": {
        "id": "8URfbxIEUIty"
      }
    },
    {
      "cell_type": "code",
      "source": [
        "print(-8 // 3)\n",
        "# -8/3 -> -2.66\n",
        "# - 4 -3 -2 -1 0 1 2"
      ],
      "metadata": {
        "id": "rG7NVliCUIPD",
        "colab": {
          "base_uri": "https://localhost:8080/"
        },
        "outputId": "7d8127cc-a536-4293-f0c2-4540c5197e5f"
      },
      "execution_count": null,
      "outputs": [
        {
          "output_type": "stream",
          "name": "stdout",
          "text": [
            "-3\n"
          ]
        }
      ]
    },
    {
      "cell_type": "markdown",
      "source": [
        "Break: 10:13 pm - 10:23 pm"
      ],
      "metadata": {
        "id": "DVv9Q_dIXWbU"
      }
    },
    {
      "cell_type": "markdown",
      "source": [
        "**Comparison Operator**\n",
        "\n",
        "Comparison Operator is used for comparison, when we want to compare the value of two things, we can compare in the following ways.\n",
        "\n",
        "*   Equal\n",
        "*   Not Equal\n",
        "*   Less than / Greater than\n",
        "*   Less than and equal / Greater than and equal\n",
        "\n",
        "Comparison Operator always returns bool, it always tells us True or False.\n",
        "\n"
      ],
      "metadata": {
        "id": "OCChs2NCLAuU"
      }
    },
    {
      "cell_type": "markdown",
      "source": [
        "**Equal**\n",
        "(==) is equal operator in Python."
      ],
      "metadata": {
        "id": "zZH4hkzSLabX"
      }
    },
    {
      "cell_type": "markdown",
      "source": [
        "We can compare:\n",
        "*   int and int\n",
        "*   int and float"
      ],
      "metadata": {
        "id": "iA-9C3kHLkCw"
      }
    },
    {
      "cell_type": "code",
      "source": [
        "print(2==2)\n",
        "print(2==4)\n",
        "print(2==2.0)\n",
        "print(3==3.00000000001)\n",
        "print(2=='2')"
      ],
      "metadata": {
        "colab": {
          "base_uri": "https://localhost:8080/"
        },
        "id": "Nhjgsu8zZ8sw",
        "outputId": "7e8dac26-d51f-433b-b2d3-664c2992209b"
      },
      "execution_count": null,
      "outputs": [
        {
          "output_type": "stream",
          "name": "stdout",
          "text": [
            "True\n",
            "False\n",
            "True\n",
            "False\n",
            "False\n"
          ]
        }
      ]
    },
    {
      "cell_type": "markdown",
      "source": [
        "**Not Equal**\n",
        "(!=) is a not equal operator in Python."
      ],
      "metadata": {
        "id": "QhnT8qFXMBh1"
      }
    },
    {
      "cell_type": "code",
      "source": [
        "print(2!=2)\n",
        "print(2!=4)\n",
        "print(2!=2.0)\n",
        "print(3!=3.00000000001)\n",
        "print(2!='2')\n",
        "print(\"A\"==\"A\")\n",
        "print(\"A\"==\"a\")"
      ],
      "metadata": {
        "colab": {
          "base_uri": "https://localhost:8080/"
        },
        "id": "Bx74OSTYaVjX",
        "outputId": "7f821551-fcb0-4ddf-ae7b-ffc59dc632a3"
      },
      "execution_count": null,
      "outputs": [
        {
          "output_type": "stream",
          "name": "stdout",
          "text": [
            "False\n",
            "True\n",
            "False\n",
            "True\n",
            "True\n",
            "True\n",
            "False\n"
          ]
        }
      ]
    },
    {
      "cell_type": "markdown",
      "source": [
        "**Less Than / Greater Than**"
      ],
      "metadata": {
        "id": "gIN8RBj5MNmQ"
      }
    },
    {
      "cell_type": "code",
      "source": [
        "print(2<3)\n",
        "print(2.1<2.5)\n",
        "print(4<7.9)\n",
        "print(324<=68)"
      ],
      "metadata": {
        "colab": {
          "base_uri": "https://localhost:8080/"
        },
        "id": "Ea4M34ORatuh",
        "outputId": "8312c0bc-df2f-4868-f79b-d97a73753bac"
      },
      "execution_count": null,
      "outputs": [
        {
          "output_type": "stream",
          "name": "stdout",
          "text": [
            "True\n",
            "True\n",
            "True\n",
            "False\n"
          ]
        }
      ]
    },
    {
      "cell_type": "code",
      "source": [
        "print(2<'2')"
      ],
      "metadata": {
        "colab": {
          "base_uri": "https://localhost:8080/",
          "height": 176
        },
        "id": "uuczQaeqbDsv",
        "outputId": "22dbc280-d06f-4369-c173-b153ef25f53b"
      },
      "execution_count": null,
      "outputs": [
        {
          "output_type": "error",
          "ename": "TypeError",
          "evalue": "'<' not supported between instances of 'int' and 'str'",
          "traceback": [
            "\u001b[0;31m---------------------------------------------------------------------------\u001b[0m",
            "\u001b[0;31mTypeError\u001b[0m                                 Traceback (most recent call last)",
            "\u001b[0;32m/tmp/ipython-input-1653158066.py\u001b[0m in \u001b[0;36m<cell line: 0>\u001b[0;34m()\u001b[0m\n\u001b[0;32m----> 1\u001b[0;31m \u001b[0mprint\u001b[0m\u001b[0;34m(\u001b[0m\u001b[0;36m2\u001b[0m\u001b[0;34m<\u001b[0m\u001b[0;34m'2'\u001b[0m\u001b[0;34m)\u001b[0m\u001b[0;34m\u001b[0m\u001b[0;34m\u001b[0m\u001b[0m\n\u001b[0m",
            "\u001b[0;31mTypeError\u001b[0m: '<' not supported between instances of 'int' and 'str'"
          ]
        }
      ]
    },
    {
      "cell_type": "code",
      "source": [
        "print('a'>'b')\n",
        "print(\"Raja\"<\"Rajshekhar\")"
      ],
      "metadata": {
        "colab": {
          "base_uri": "https://localhost:8080/"
        },
        "id": "jwjhLRWZbJx1",
        "outputId": "5ef8381b-cf17-4271-ec48-5750edb88e3f"
      },
      "execution_count": null,
      "outputs": [
        {
          "output_type": "stream",
          "name": "stdout",
          "text": [
            "False\n",
            "True\n"
          ]
        }
      ]
    },
    {
      "cell_type": "markdown",
      "source": [
        "**Assignment Operator**\n",
        "(=) is an assignment operator, it will assigne value to the variable.\n",
        "\n",
        "\n",
        "a=2+5\n",
        "\n",
        "print(a)"
      ],
      "metadata": {
        "id": "9rrKmMBzMPPQ"
      }
    },
    {
      "cell_type": "markdown",
      "source": [
        "**Shorthand:**\n",
        "In place of a = a (op) b, we can write a (op)= b."
      ],
      "metadata": {
        "id": "bnglcxDRMc4Y"
      }
    },
    {
      "cell_type": "code",
      "source": [
        "a=1\n",
        "a=a+5\n",
        "print(a)\n",
        "\n",
        "a=1\n",
        "a+=5 #shorthand format\n",
        "print(a)\n",
        "\n",
        "b=2\n",
        "#b=b-10\n",
        "b-=10\n",
        "print(b)\n"
      ],
      "metadata": {
        "colab": {
          "base_uri": "https://localhost:8080/"
        },
        "id": "qRmKdmhVboMb",
        "outputId": "ebbe008a-48f8-4bfd-f95b-4e471801f1c0"
      },
      "execution_count": null,
      "outputs": [
        {
          "output_type": "stream",
          "name": "stdout",
          "text": [
            "6\n",
            "6\n",
            "-8\n"
          ]
        }
      ]
    },
    {
      "cell_type": "markdown",
      "source": [
        "**Logical Operator**\n",
        "We have the following logical operators:\n",
        "\n",
        "1. And (Both the values should be True then True otherwise False)\n",
        "2. Or (Any of the values should be true then True otherwise False)\n",
        "3. Not (Reverse)\n",
        "\n",
        "\n",
        "Logical operator always takes bool as input:\n",
        "\n",
        "**AND**\n",
        "\n",
        "The truth table of AND:\n",
        "1. True and True -> True\n",
        "2. True and False -> False\n",
        "3. False and True -> False\n",
        "4. False and False -> False\n"
      ],
      "metadata": {
        "id": "Epl12sEaMl_e"
      }
    },
    {
      "cell_type": "code",
      "source": [
        "2<3 and 2<4 # True and True -> True"
      ],
      "metadata": {
        "colab": {
          "base_uri": "https://localhost:8080/"
        },
        "id": "BobZicapcgUn",
        "outputId": "6b027213-bce9-4a61-8762-da99653e310b"
      },
      "execution_count": null,
      "outputs": [
        {
          "output_type": "execute_result",
          "data": {
            "text/plain": [
              "True"
            ]
          },
          "metadata": {},
          "execution_count": 64
        }
      ]
    },
    {
      "cell_type": "code",
      "source": [
        "6<2 and 5<10"
      ],
      "metadata": {
        "colab": {
          "base_uri": "https://localhost:8080/"
        },
        "id": "twEGq6EscszW",
        "outputId": "4f8af2c2-056c-419c-c3df-114e09ad4eaa"
      },
      "execution_count": null,
      "outputs": [
        {
          "output_type": "execute_result",
          "data": {
            "text/plain": [
              "False"
            ]
          },
          "metadata": {},
          "execution_count": 65
        }
      ]
    },
    {
      "cell_type": "markdown",
      "source": [
        "**OR**\n",
        "\n",
        "The truth table of OR:\n",
        "1. True or True -> True\n",
        "2. True or False -> True\n",
        "3. False or True -> True\n",
        "4. False or False -> False"
      ],
      "metadata": {
        "id": "jQy5scGENJ7t"
      }
    },
    {
      "cell_type": "code",
      "source": [
        "2<3 or 2<1 #True or False"
      ],
      "metadata": {
        "colab": {
          "base_uri": "https://localhost:8080/"
        },
        "id": "8I8lzU_MdHRk",
        "outputId": "3425b82c-9cc7-41f5-9e7c-160be547245e"
      },
      "execution_count": null,
      "outputs": [
        {
          "output_type": "execute_result",
          "data": {
            "text/plain": [
              "True"
            ]
          },
          "metadata": {},
          "execution_count": 66
        }
      ]
    },
    {
      "cell_type": "markdown",
      "source": [
        "**Not**\n",
        "\n",
        "not is Not operator.\n",
        "1. not True -> False\n",
        "2. not False -> True"
      ],
      "metadata": {
        "id": "AFzy7ZAyNS2C"
      }
    },
    {
      "cell_type": "code",
      "source": [
        "not(2<3 or 2<1)"
      ],
      "metadata": {
        "colab": {
          "base_uri": "https://localhost:8080/"
        },
        "id": "APSMR-0UdVHz",
        "outputId": "9d087b09-4481-4310-da9d-6cb2d2494a5a"
      },
      "execution_count": null,
      "outputs": [
        {
          "output_type": "execute_result",
          "data": {
            "text/plain": [
              "False"
            ]
          },
          "metadata": {},
          "execution_count": 67
        }
      ]
    },
    {
      "cell_type": "markdown",
      "source": [
        "**Quiz 7**"
      ],
      "metadata": {
        "id": "Xv2qLXkHUmgi"
      }
    },
    {
      "cell_type": "code",
      "source": [
        "print(10 <= 8)"
      ],
      "metadata": {
        "id": "KogixRq0Up6x",
        "colab": {
          "base_uri": "https://localhost:8080/"
        },
        "outputId": "7fac9070-6c94-46b9-d06e-5588f0f8dfcc"
      },
      "execution_count": null,
      "outputs": [
        {
          "output_type": "stream",
          "name": "stdout",
          "text": [
            "False\n"
          ]
        }
      ]
    },
    {
      "cell_type": "markdown",
      "source": [
        "**Quiz 8**"
      ],
      "metadata": {
        "id": "Mg6dMrOpUphU"
      }
    },
    {
      "cell_type": "code",
      "source": [
        "print(False == 1) # Boolean == int False => 0"
      ],
      "metadata": {
        "id": "_2NJQgpDUuv4",
        "colab": {
          "base_uri": "https://localhost:8080/"
        },
        "outputId": "41206c98-74c7-4f0e-f175-34313a8f44f0"
      },
      "execution_count": null,
      "outputs": [
        {
          "output_type": "stream",
          "name": "stdout",
          "text": [
            "False\n"
          ]
        }
      ]
    },
    {
      "cell_type": "code",
      "source": [
        "print(True == 1)"
      ],
      "metadata": {
        "colab": {
          "base_uri": "https://localhost:8080/"
        },
        "id": "IQvYYbyweEzF",
        "outputId": "328a3bd5-3fc8-4ea8-d840-a14c2c435b8b"
      },
      "execution_count": null,
      "outputs": [
        {
          "output_type": "stream",
          "name": "stdout",
          "text": [
            "True\n"
          ]
        }
      ]
    },
    {
      "cell_type": "markdown",
      "source": [
        "**Quiz 9**"
      ],
      "metadata": {
        "id": "85PNc6XfNdKt"
      }
    },
    {
      "cell_type": "code",
      "source": [
        "a = 3\n",
        "a *= 4 # a=3*4\n",
        "print(a)"
      ],
      "metadata": {
        "id": "z8c_hMW9Nf6f",
        "colab": {
          "base_uri": "https://localhost:8080/"
        },
        "outputId": "7bbcb688-8bb4-43f6-b34d-1c39e116270d"
      },
      "execution_count": null,
      "outputs": [
        {
          "output_type": "stream",
          "name": "stdout",
          "text": [
            "12\n"
          ]
        }
      ]
    },
    {
      "cell_type": "markdown",
      "source": [
        "**Quiz 10**"
      ],
      "metadata": {
        "id": "Fm6wxHJZNfYZ"
      }
    },
    {
      "cell_type": "code",
      "source": [
        "print(True and (not False))\n",
        "# True and (True)\n",
        "#True"
      ],
      "metadata": {
        "id": "0Wq8BrXBNhca",
        "colab": {
          "base_uri": "https://localhost:8080/"
        },
        "outputId": "1c7a9052-5f39-4a6c-c254-14b113bfa189"
      },
      "execution_count": null,
      "outputs": [
        {
          "output_type": "stream",
          "name": "stdout",
          "text": [
            "True\n"
          ]
        }
      ]
    },
    {
      "cell_type": "markdown",
      "source": [
        "**Conditional Statements**\n",
        "\n",
        "A conditional statement is a Boolean expression that, if True, executes a piece of code.There are the following Conditional patterns in Python:\n",
        "\n",
        "1. if\n",
        "2. if else\n",
        "3. if elif\n",
        "4. if elif else\n",
        "\n",
        "Python is an indentation-based language."
      ],
      "metadata": {
        "id": "Xj7Jyo9Ffjhj"
      }
    },
    {
      "cell_type": "code",
      "source": [
        "#if Statement\n",
        "'''\n",
        "if (condition):\n",
        "  #this is the if block\n",
        "  #all lines must be indented equally"
      ],
      "metadata": {
        "id": "VllC7pLlfdlq"
      },
      "execution_count": null,
      "outputs": []
    },
    {
      "cell_type": "code",
      "source": [
        "if (2<3): #True\n",
        "  print(\"two is less\") #this belongs inside the if block"
      ],
      "metadata": {
        "colab": {
          "base_uri": "https://localhost:8080/"
        },
        "id": "Q5ilBEbzf53F",
        "outputId": "15af793d-f7ae-494d-d206-43d2187d6aaa"
      },
      "execution_count": null,
      "outputs": [
        {
          "output_type": "stream",
          "name": "stdout",
          "text": [
            "two is less\n"
          ]
        }
      ]
    },
    {
      "cell_type": "code",
      "source": [
        "if (2>3): #False\n",
        "  print(\"two is less\") #this belongs inside the if block, will not execute if statement is false"
      ],
      "metadata": {
        "id": "trXr_qeugMeK"
      },
      "execution_count": null,
      "outputs": []
    },
    {
      "cell_type": "code",
      "source": [
        "if (2<3): #True\n",
        "  print(\"two is less\") #this belongs inside the if block\n",
        "   print(\"yay\")"
      ],
      "metadata": {
        "colab": {
          "base_uri": "https://localhost:8080/",
          "height": 106
        },
        "id": "nKGZG8yAgKsH",
        "outputId": "8ca90579-2e8f-4f66-b666-daa6eb90dbb5"
      },
      "execution_count": null,
      "outputs": [
        {
          "output_type": "error",
          "ename": "IndentationError",
          "evalue": "unexpected indent (ipython-input-4244993992.py, line 3)",
          "traceback": [
            "\u001b[0;36m  File \u001b[0;32m\"/tmp/ipython-input-4244993992.py\"\u001b[0;36m, line \u001b[0;32m3\u001b[0m\n\u001b[0;31m    print(\"yay\")\u001b[0m\n\u001b[0m    ^\u001b[0m\n\u001b[0;31mIndentationError\u001b[0m\u001b[0;31m:\u001b[0m unexpected indent\n"
          ]
        }
      ]
    },
    {
      "cell_type": "code",
      "source": [
        "if (2>3): #False\n",
        " print(\"two is less\") #this belongs inside the if block\n",
        "print(\"yay\") #this statement is outside the if block"
      ],
      "metadata": {
        "colab": {
          "base_uri": "https://localhost:8080/"
        },
        "id": "s20eYphzgllv",
        "outputId": "958e72f8-c7c8-4b78-f6c2-9cfcb05f856d"
      },
      "execution_count": null,
      "outputs": [
        {
          "output_type": "stream",
          "name": "stdout",
          "text": [
            "yay\n"
          ]
        }
      ]
    },
    {
      "cell_type": "code",
      "source": [
        "#if else\n",
        "\n",
        "if (2<1): #False\n",
        "  print(\"two is less\") #this belongs inside the if block\n",
        "else:\n",
        "  print(\"two is greater\")"
      ],
      "metadata": {
        "colab": {
          "base_uri": "https://localhost:8080/"
        },
        "id": "uRjRTUm4hSt2",
        "outputId": "d044be5c-550f-47e3-8444-2a64fd198686"
      },
      "execution_count": null,
      "outputs": [
        {
          "output_type": "stream",
          "name": "stdout",
          "text": [
            "two is greater\n"
          ]
        }
      ]
    },
    {
      "cell_type": "code",
      "source": [
        "#if else\n",
        "\n",
        "if (2<1): #False\n",
        "  print(\"two is less\") #this belongs inside the if block\n",
        "print(\"hi\") #outside if block\n",
        "else: #does not belong to any if\n",
        "  print(\"two is greater\")"
      ],
      "metadata": {
        "colab": {
          "base_uri": "https://localhost:8080/",
          "height": 106
        },
        "id": "wBNBZo92hl94",
        "outputId": "be81e192-9e13-4b6f-ac81-d20ee04b540a"
      },
      "execution_count": null,
      "outputs": [
        {
          "output_type": "error",
          "ename": "SyntaxError",
          "evalue": "invalid syntax (ipython-input-4148155358.py, line 6)",
          "traceback": [
            "\u001b[0;36m  File \u001b[0;32m\"/tmp/ipython-input-4148155358.py\"\u001b[0;36m, line \u001b[0;32m6\u001b[0m\n\u001b[0;31m    else: #does not belong to any if\u001b[0m\n\u001b[0m    ^\u001b[0m\n\u001b[0;31mSyntaxError\u001b[0m\u001b[0;31m:\u001b[0m invalid syntax\n"
          ]
        }
      ]
    },
    {
      "cell_type": "code",
      "source": [
        "Statement 1\n",
        "if condition: #False\n",
        "    Statement 2\n",
        "else:\n",
        "    Statement 3\n",
        "Statement 4\n",
        "\n",
        "#True -> 1,2,4\n",
        "#False -> 1,3,4"
      ],
      "metadata": {
        "id": "sYo4QJFLh-4K"
      },
      "execution_count": null,
      "outputs": []
    },
    {
      "cell_type": "markdown",
      "source": [
        "**Quiz 11**"
      ],
      "metadata": {
        "id": "My0UVfgUNh9O"
      }
    },
    {
      "cell_type": "code",
      "source": [
        "a = 5\n",
        "if(a < 6): #5<6 -> True\n",
        "    print('Option 1') #runs\n",
        "if(a < 3): #5<3 -> False\n",
        "    print('Option 2')\n",
        "else:\n",
        "    print('Option 3') #runs as if is false"
      ],
      "metadata": {
        "id": "bYuoCiGtNjWz",
        "colab": {
          "base_uri": "https://localhost:8080/"
        },
        "outputId": "c97bdd0c-3b3f-4499-ac29-3785851cce19"
      },
      "execution_count": null,
      "outputs": [
        {
          "output_type": "stream",
          "name": "stdout",
          "text": [
            "Option 1\n",
            "Option 3\n"
          ]
        }
      ]
    },
    {
      "cell_type": "markdown",
      "source": [
        "**Problem Statement - Traffic Lights:**\n",
        " You have to ask about the color of the traffic light from the user, if:\n",
        "*   it is green, then print go\n",
        "*   it is yellow, then print wait\n",
        "*   it is red, then print stop\n",
        "*   green -> go\n",
        "*   yellow -> wait\n",
        "*   red -> stop\n",
        "\n",
        "\n",
        "\n",
        "\n",
        "\n"
      ],
      "metadata": {
        "id": "ySKtOXHoiK28"
      }
    },
    {
      "cell_type": "code",
      "source": [],
      "metadata": {
        "id": "m0TSSohygGsQ"
      },
      "execution_count": null,
      "outputs": []
    },
    {
      "cell_type": "markdown",
      "source": [
        "**Problem Statement - Maximum of two:**\n",
        "Given two integers, print the maximum of them."
      ],
      "metadata": {
        "id": "LtO_6V4Zio-B"
      }
    },
    {
      "cell_type": "code",
      "source": [],
      "metadata": {
        "id": "G4vvpyzkiKpq"
      },
      "execution_count": null,
      "outputs": []
    },
    {
      "cell_type": "markdown",
      "source": [
        "**Problem Statement - Check even or odd:**\n",
        " Take an integer and print if it is even or odd"
      ],
      "metadata": {
        "id": "W1fAaK6pjAkO"
      }
    },
    {
      "cell_type": "markdown",
      "source": [
        "**Problem Statement: Print the grade**\n",
        "Take marks as input, then print the grade accordingly as given below:\n",
        "1. A --> (90, 100] - 91 to 100\n",
        "2. B --> (80, 90] - 81 to 90\n",
        "3. C --> (70, 80] - 71 to 80\n",
        "4. D --> [0, 70] - 0 - 70\n",
        "\n"
      ],
      "metadata": {
        "id": "xeJ_mFuLjJdW"
      }
    },
    {
      "cell_type": "markdown",
      "source": [
        "**Problem Statement: FizzBuzz**\n",
        "\n",
        " Given an integer as input:\n",
        "\n",
        "\t1. if it is only a multiple of 3 print only Fizz\n",
        "\t2. if it is only a multiple of 5 print only Buzz\n",
        "\t3. if it is a multiple of both 3 and 5 print Fizz-Buzz"
      ],
      "metadata": {
        "id": "fESPNwWWjab8"
      }
    },
    {
      "cell_type": "markdown",
      "source": [
        "**Nested if**\n",
        "\n",
        "We can have another if inside the if."
      ],
      "metadata": {
        "id": "uPK-jGoujslq"
      }
    },
    {
      "cell_type": "code",
      "source": [],
      "metadata": {
        "id": "8lvQKqETmOPT"
      },
      "execution_count": null,
      "outputs": []
    },
    {
      "cell_type": "markdown",
      "source": [
        "Indentation in Python"
      ],
      "metadata": {
        "id": "Rg1Vsgy9V6p6"
      }
    },
    {
      "cell_type": "markdown",
      "source": [
        "**Operators Hierarchy(Precedence)**\n",
        "\n",
        "High precedence operators are calculated first.\n",
        "For operators with the same precedence will be evaluated from left to right.\n",
        "\n",
        "\n"
      ],
      "metadata": {
        "id": "cjZj0OHFkEfo"
      }
    },
    {
      "cell_type": "markdown",
      "source": [
        "![Screenshot 2025-02-05 at 8.14.38 PM.png](data:image/png;base64,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)"
      ],
      "metadata": {
        "id": "p_XiHGZJSWZP"
      }
    },
    {
      "cell_type": "code",
      "source": [
        "print(3*10/2)\n",
        "print(10-5/5)"
      ],
      "metadata": {
        "id": "muy_XP0WSZ-I",
        "colab": {
          "base_uri": "https://localhost:8080/"
        },
        "outputId": "982df9fa-6c28-4788-f283-92ed77d40bd2"
      },
      "execution_count": null,
      "outputs": [
        {
          "output_type": "stream",
          "name": "stdout",
          "text": [
            "15.0\n",
            "9.0\n"
          ]
        }
      ]
    }
  ]
}